{
 "cells": [
  {
   "cell_type": "code",
   "execution_count": 3,
   "metadata": {},
   "outputs": [],
   "source": [
    "import os\n",
    "from tqdm import tqdm\n",
    "import pickle\n",
    "\n",
    "import numpy as np \n",
    "import pandas as pd \n",
    "import matplotlib.pyplot as plt\n",
    "import torch \n",
    "from torchvision.io import read_image \n",
    "from torch.utils.data import Dataset, DataLoader\n",
    "from torchvision.transforms import v2"
   ]
  },
  {
   "cell_type": "code",
   "execution_count": null,
   "metadata": {},
   "outputs": [],
   "source": [
    "# path to EuroSAT dataset\n",
    "data_path = '../EuroSAT_RGB'"
   ]
  },
  {
   "cell_type": "markdown",
   "metadata": {},
   "source": [
    "# Calculating Mean and SD"
   ]
  },
  {
   "cell_type": "code",
   "execution_count": 161,
   "metadata": {},
   "outputs": [],
   "source": [
    "# do not run again if preprocessing statistics already saved in preprocessing folder\n",
    "already_preprocessed = True"
   ]
  },
  {
   "cell_type": "code",
   "execution_count": 162,
   "metadata": {},
   "outputs": [],
   "source": [
    "def calculate_channel_mean():\n",
    "    # calculating mean over each RGB channel\n",
    "    means_sum = torch.zeros(3)\n",
    "    num_img = 0\n",
    "    # iterate over each class folder inside dataset\n",
    "    for land_class in os.listdir(data_path):\n",
    "        print(land_class)\n",
    "        land_class_path = os.path.join(data_path, land_class)\n",
    "        # iterate over each image for each class\n",
    "        for file in tqdm(os.listdir(land_class_path)):\n",
    "            img_path = os.path.join(land_class_path, file)\n",
    "            img = read_image(img_path).to(torch.float64) \n",
    "            means_sum += torch.mean(img, dim=(1,2))\n",
    "            num_img += 1\n",
    "        print('==========================================')\n",
    "    channel_mean = means_sum / num_img\n",
    "    return channel_mean, num_img"
   ]
  },
  {
   "cell_type": "code",
   "execution_count": 163,
   "metadata": {},
   "outputs": [],
   "source": [
    "# calculates average of squared deviations across channels\n",
    "def sample_var(x, channel_mean):\n",
    "    return torch.mean((x - channel_mean[:, None, None])**2, dim = (1,2))\n",
    "\n",
    "def calculate_channel_sd(channel_mean, num_img):\n",
    "    # calculating variance over each RGB channel\n",
    "    vars_sum = torch.zeros(3)\n",
    "    # iterate over each class folder inside dataset\n",
    "    for land_class in os.listdir(data_path):\n",
    "        print(land_class)\n",
    "        land_class_path = os.path.join(data_path, land_class)\n",
    "        # iterate over each image for each class\n",
    "        for file in tqdm(os.listdir(land_class_path)):\n",
    "            img_path = os.path.join(land_class_path, file)\n",
    "            img = read_image(img_path).to(torch.float64) \n",
    "            vars_sum += sample_var(img, channel_mean)\n",
    "        print('==========================================')\n",
    "    # take square root to get standard deviation\n",
    "    channel_sd = torch.sqrt(vars_sum / num_img)\n",
    "    return(channel_sd)"
   ]
  },
  {
   "cell_type": "code",
   "execution_count": null,
   "metadata": {},
   "outputs": [],
   "source": [
    "if not already_preprocessed:\n",
    "    channel_mean, num_img = calculate_channel_mean()\n",
    "    channel_sd = calculate_channel_sd(channel_mean, num_img)\n",
    "    \n",
    "    preprocessing_stats = {\n",
    "        'mean': channel_mean, \n",
    "        'sd': channel_sd, \n",
    "        'num_img': num_img\n",
    "    }\n",
    "    with open('./preprocessing_stats.pkl', 'wb') as f:\n",
    "        pickle.dump(preprocessing_stats, f)\n",
    "else:\n",
    "    with open('./preprocessing_stats.pkl', 'rb') as f:\n",
    "        preprocessing_stats = pickle.load(f)\n",
    "    channel_mean = preprocessing_stats['mean']\n",
    "    channel_sd = preprocessing_stats['sd']\n",
    "    num_img = preprocessing_stats['num_img']"
   ]
  },
  {
   "cell_type": "markdown",
   "metadata": {},
   "source": [
    "# Dataset"
   ]
  },
  {
   "cell_type": "code",
   "execution_count": null,
   "metadata": {},
   "outputs": [],
   "source": [
    "class EuroSATDataset(Dataset):\n",
    "    def __init__(self, data_path, channel_mean, channel_sd, transform=False):\n",
    "        self.data_path = data_path\n",
    "        # setting normalization and augmentation\n",
    "        self.transform = transform\n",
    "        if self.transform:\n",
    "            self.transform = v2.Compose([\n",
    "                v2.Normalize(mean=channel_mean, std=channel_sd)\n",
    "            ])\n",
    "            # TODO: check to see if these are necessary\n",
    "            # self.transform = v2.Compose([\n",
    "            #     v2.Normalize(mean=channel_mean, std=channel_sd),\n",
    "            #     v2.RandomHorizontalFlip(p=0.5),\n",
    "            #     v2.RandomVerticalFlip(p=0.5),\n",
    "            #     v2.GaussianBlur((3,3), (0.5,1))\n",
    "            # ])\n",
    "\n",
    "        self.sorted_class_names = sorted(os.listdir(self.data_path))\n",
    "        self.num_classes = len(os.listdir(self.data_path))\n",
    "        self.num_img_per_class = torch.zeros(self.num_classes, dtype=torch.int)\n",
    "\n",
    "        # getting cumsum number of images per class sorted alphabetically        \n",
    "        for i, land_class in enumerate(self.sorted_class_names):\n",
    "            self.num_img_per_class[i] = len(os.listdir(os.path.join(data_path, land_class)))\n",
    "        self.cumsum_img_per_class = torch.cumsum(self.num_img_per_class, dim=0)\n",
    "        \n",
    "    def __len__(self):\n",
    "        return torch.sum(self.num_img_per_class)\n",
    "\n",
    "    def __getitem__(self, idx):\n",
    "        # calculating which class folder to read from\n",
    "        idx_diff = self.cumsum_img_per_class - idx\n",
    "        class_idx = torch.sum(idx_diff <= 0)\n",
    "        # recalculating index if going to other folders\n",
    "        if class_idx != 0:\n",
    "            idx = idx - self.cumsum_img_per_class[class_idx - 1]\n",
    "        \n",
    "        # getting image tensor and class name\n",
    "        class_name = self.sorted_class_names[class_idx]\n",
    "        class_path = os.path.join(data_path, class_name)\n",
    "        img_name = os.listdir(class_path)[idx]\n",
    "        img_path = os.path.join(class_path, img_name)\n",
    "        img = read_image(img_path).to(torch.float64)\n",
    "    \n",
    "        # preprocessing and augmenting data\n",
    "        if self.transform:\n",
    "            img = self.transform(img)\n",
    "        # one-hot encoding label according to alphabetical order\n",
    "        onehot_label = torch.nn.functional.one_hot(torch.tensor(class_idx), num_classes=self.num_classes)\n",
    "        \n",
    "        sample = {'image': img, 'land_use': onehot_label}\n",
    "        return sample"
   ]
  },
  {
   "cell_type": "code",
   "execution_count": 201,
   "metadata": {},
   "outputs": [
    {
     "data": {
      "text/plain": [
       "tensor([1, 0, 0, 0, 0, 0, 0, 0, 0, 0])"
      ]
     },
     "execution_count": 201,
     "metadata": {},
     "output_type": "execute_result"
    }
   ],
   "source": [
    "torch.nn.functional.one_hot(torch.tensor(0), num_classes=10)"
   ]
  },
  {
   "cell_type": "code",
   "execution_count": null,
   "metadata": {},
   "outputs": [
    {
     "name": "stdout",
     "output_type": "stream",
     "text": [
      "0: AnnualCrop\n",
      "2500: AnnualCrop\n",
      "5000: Forest\n",
      "7500: HerbaceousVegetation\n",
      "10000: Highway\n",
      "12500: Industrial\n",
      "15000: Pasture\n",
      "17500: PermanentCrop\n",
      "20000: Residential\n",
      "22500: River\n",
      "25000: SeaLake\n",
      "Out of bounds works\n"
     ]
    }
   ],
   "source": [
    "# testing to see if dataset iterates correctly\n",
    "eurosat = EuroSATDataset(data_path)\n",
    "for i in range(0, 27000, 100):\n",
    "    eurosat[i] \n",
    "    if i % 2500 == 0:\n",
    "        print(f'{i}: {eurosat[i]['land_use']}')\n",
    "\n",
    "eurosat[26999]\n",
    "try:\n",
    "    eurosat[27000]\n",
    "except:\n",
    "    print('Out of bounds works')"
   ]
  }
 ],
 "metadata": {
  "kernelspec": {
   "display_name": "math_156_project",
   "language": "python",
   "name": "python3"
  },
  "language_info": {
   "codemirror_mode": {
    "name": "ipython",
    "version": 3
   },
   "file_extension": ".py",
   "mimetype": "text/x-python",
   "name": "python",
   "nbconvert_exporter": "python",
   "pygments_lexer": "ipython3",
   "version": "3.13.2"
  }
 },
 "nbformat": 4,
 "nbformat_minor": 2
}
