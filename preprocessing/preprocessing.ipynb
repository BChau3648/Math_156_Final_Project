{
 "cells": [
  {
   "cell_type": "code",
   "execution_count": 1,
   "metadata": {},
   "outputs": [],
   "source": [
    "import os\n",
    "from tqdm import tqdm\n",
    "import pickle\n",
    "\n",
    "import numpy as np \n",
    "import pandas as pd \n",
    "import matplotlib.pyplot as plt\n",
    "import torch \n",
    "from torchvision.io import read_image \n",
    "from torch.utils.data import Dataset, DataLoader\n",
    "from torchvision.transforms import v2"
   ]
  },
  {
   "cell_type": "code",
   "execution_count": 2,
   "metadata": {},
   "outputs": [],
   "source": [
    "# path to EuroSAT dataset\n",
    "data_path = '../EuroSAT_RGB'"
   ]
  },
  {
   "cell_type": "markdown",
   "metadata": {},
   "source": [
    "# Calculating Mean and SD"
   ]
  },
  {
   "cell_type": "code",
   "execution_count": 3,
   "metadata": {},
   "outputs": [],
   "source": [
    "# do not run again if preprocessing statistics already saved in preprocessing folder\n",
    "already_preprocessed = True"
   ]
  },
  {
   "cell_type": "code",
   "execution_count": 4,
   "metadata": {},
   "outputs": [],
   "source": [
    "def calculate_channel_mean():\n",
    "    # calculating mean over each RGB channel\n",
    "    means_sum = torch.zeros(3)\n",
    "    num_img = 0\n",
    "    # iterate over each class folder inside dataset\n",
    "    for land_class in os.listdir(data_path):\n",
    "        print(land_class)\n",
    "        land_class_path = os.path.join(data_path, land_class)\n",
    "        # iterate over each image for each class\n",
    "        for file in tqdm(os.listdir(land_class_path)):\n",
    "            img_path = os.path.join(land_class_path, file)\n",
    "            img = read_image(img_path).to(torch.float64) \n",
    "            means_sum += torch.mean(img, dim=(1,2))\n",
    "            num_img += 1\n",
    "        print('==========================================')\n",
    "    channel_mean = means_sum / num_img\n",
    "    return channel_mean, num_img"
   ]
  },
  {
   "cell_type": "code",
   "execution_count": 5,
   "metadata": {},
   "outputs": [],
   "source": [
    "# calculates average of squared deviations across channels\n",
    "def sample_var(x, channel_mean):\n",
    "    return torch.mean((x - channel_mean[:, None, None])**2, dim = (1,2))\n",
    "\n",
    "def calculate_channel_sd(channel_mean, num_img):\n",
    "    # calculating variance over each RGB channel\n",
    "    vars_sum = torch.zeros(3)\n",
    "    # iterate over each class folder inside dataset\n",
    "    for land_class in os.listdir(data_path):\n",
    "        print(land_class)\n",
    "        land_class_path = os.path.join(data_path, land_class)\n",
    "        # iterate over each image for each class\n",
    "        for file in tqdm(os.listdir(land_class_path)):\n",
    "            img_path = os.path.join(land_class_path, file)\n",
    "            img = read_image(img_path).to(torch.float64) \n",
    "            vars_sum += sample_var(img, channel_mean)\n",
    "        print('==========================================')\n",
    "    # take square root to get standard deviation\n",
    "    channel_sd = torch.sqrt(vars_sum / num_img)\n",
    "    return(channel_sd)"
   ]
  },
  {
   "cell_type": "code",
   "execution_count": null,
   "metadata": {},
   "outputs": [
    {
     "ename": "FileNotFoundError",
     "evalue": "[Errno 2] No such file or directory: './preprocessing_stats.p'",
     "output_type": "error",
     "traceback": [
      "\u001b[0;31m---------------------------------------------------------------------------\u001b[0m",
      "\u001b[0;31mFileNotFoundError\u001b[0m                         Traceback (most recent call last)",
      "Cell \u001b[0;32mIn[6], line 13\u001b[0m\n\u001b[1;32m     11\u001b[0m         pickle\u001b[38;5;241m.\u001b[39mdump(preprocessing_stats, f)\n\u001b[1;32m     12\u001b[0m \u001b[38;5;28;01melse\u001b[39;00m:\n\u001b[0;32m---> 13\u001b[0m     \u001b[38;5;28;01mwith\u001b[39;00m \u001b[38;5;28;43mopen\u001b[39;49m\u001b[43m(\u001b[49m\u001b[38;5;124;43m'\u001b[39;49m\u001b[38;5;124;43m./preprocessing_stats.p\u001b[39;49m\u001b[38;5;124;43m'\u001b[39;49m\u001b[43m,\u001b[49m\u001b[43m \u001b[49m\u001b[38;5;124;43m'\u001b[39;49m\u001b[38;5;124;43mrb\u001b[39;49m\u001b[38;5;124;43m'\u001b[39;49m\u001b[43m)\u001b[49m \u001b[38;5;28;01mas\u001b[39;00m f:\n\u001b[1;32m     14\u001b[0m         preprocessing_stats \u001b[38;5;241m=\u001b[39m pickle\u001b[38;5;241m.\u001b[39mload(f)\n\u001b[1;32m     15\u001b[0m     channel_mean \u001b[38;5;241m=\u001b[39m preprocessing_stats[\u001b[38;5;124m'\u001b[39m\u001b[38;5;124mmean\u001b[39m\u001b[38;5;124m'\u001b[39m]\n",
      "File \u001b[0;32m~/anaconda3/envs/kidney_seg/lib/python3.10/site-packages/IPython/core/interactiveshell.py:324\u001b[0m, in \u001b[0;36m_modified_open\u001b[0;34m(file, *args, **kwargs)\u001b[0m\n\u001b[1;32m    317\u001b[0m \u001b[38;5;28;01mif\u001b[39;00m file \u001b[38;5;129;01min\u001b[39;00m {\u001b[38;5;241m0\u001b[39m, \u001b[38;5;241m1\u001b[39m, \u001b[38;5;241m2\u001b[39m}:\n\u001b[1;32m    318\u001b[0m     \u001b[38;5;28;01mraise\u001b[39;00m \u001b[38;5;167;01mValueError\u001b[39;00m(\n\u001b[1;32m    319\u001b[0m         \u001b[38;5;124mf\u001b[39m\u001b[38;5;124m\"\u001b[39m\u001b[38;5;124mIPython won\u001b[39m\u001b[38;5;124m'\u001b[39m\u001b[38;5;124mt let you open fd=\u001b[39m\u001b[38;5;132;01m{\u001b[39;00mfile\u001b[38;5;132;01m}\u001b[39;00m\u001b[38;5;124m by default \u001b[39m\u001b[38;5;124m\"\u001b[39m\n\u001b[1;32m    320\u001b[0m         \u001b[38;5;124m\"\u001b[39m\u001b[38;5;124mas it is likely to crash IPython. If you know what you are doing, \u001b[39m\u001b[38;5;124m\"\u001b[39m\n\u001b[1;32m    321\u001b[0m         \u001b[38;5;124m\"\u001b[39m\u001b[38;5;124myou can use builtins\u001b[39m\u001b[38;5;124m'\u001b[39m\u001b[38;5;124m open.\u001b[39m\u001b[38;5;124m\"\u001b[39m\n\u001b[1;32m    322\u001b[0m     )\n\u001b[0;32m--> 324\u001b[0m \u001b[38;5;28;01mreturn\u001b[39;00m \u001b[43mio_open\u001b[49m\u001b[43m(\u001b[49m\u001b[43mfile\u001b[49m\u001b[43m,\u001b[49m\u001b[43m \u001b[49m\u001b[38;5;241;43m*\u001b[39;49m\u001b[43margs\u001b[49m\u001b[43m,\u001b[49m\u001b[43m \u001b[49m\u001b[38;5;241;43m*\u001b[39;49m\u001b[38;5;241;43m*\u001b[39;49m\u001b[43mkwargs\u001b[49m\u001b[43m)\u001b[49m\n",
      "\u001b[0;31mFileNotFoundError\u001b[0m: [Errno 2] No such file or directory: './preprocessing_stats.p'"
     ]
    }
   ],
   "source": [
    "if not already_preprocessed:\n",
    "    channel_mean, num_img = calculate_channel_mean()\n",
    "    channel_sd = calculate_channel_sd(channel_mean, num_img)\n",
    "    \n",
    "    preprocessing_stats = {\n",
    "        'mean': channel_mean, \n",
    "        'sd': channel_sd, \n",
    "        'num_img': num_img\n",
    "    }\n",
    "    with open('./preprocessing_stats.p', 'wb') as f:\n",
    "        pickle.dump(preprocessing_stats, f)\n",
    "else:\n",
    "    with open('./preprocessing_stats.pkl', 'rb') as f:\n",
    "        preprocessing_stats = pickle.load(f)\n",
    "    channel_mean = preprocessing_stats['mean']\n",
    "    channel_sd = preprocessing_stats['sd']\n",
    "    num_img = preprocessing_stats['num_img']"
   ]
  },
  {
   "cell_type": "markdown",
   "metadata": {},
   "source": [
    "# Dataloader"
   ]
  },
  {
   "cell_type": "code",
   "execution_count": null,
   "metadata": {},
   "outputs": [
    {
     "data": {
      "text/plain": [
       "tensor([ 87.8159,  96.9744, 103.9817])"
      ]
     },
     "execution_count": 198,
     "metadata": {},
     "output_type": "execute_result"
    }
   ],
   "source": [
    "channel_mean"
   ]
  },
  {
   "cell_type": "code",
   "execution_count": null,
   "metadata": {},
   "outputs": [],
   "source": [
    "class EuroSATDataset(Dataset):\n",
    "    def __init__(self, data_path, channel_mean, channel_sd, transform=False):\n",
    "        self.data_path = data_path\n",
    "        # setting normalization and augmentation\n",
    "        self.transform = transform\n",
    "        if self.transform:\n",
    "            self.transform = v2.Compose([\n",
    "                v2.Normalize(mean=channel_mean, std=channel_sd),\n",
    "                v2.RandomHorizontalFlip(p=0.5),\n",
    "                v2.RandomVerticalFlip(p=0.5),\n",
    "                v2.GaussianBlur((3,3), (0.5,1))\n",
    "            ])\n",
    "\n",
    "        self.sorted_class_names = sorted(os.listdir(self.data_path))\n",
    "        num_classes = len(os.listdir(self.data_path))\n",
    "        self.num_img_per_class = torch.zeros(num_classes, dtype=torch.int)\n",
    "\n",
    "        # getting cumsum number of images per class sorted alphabetically        \n",
    "        for i, land_class in enumerate(self.sorted_class_names):\n",
    "            self.num_img_per_class[i] = len(os.listdir(os.path.join(data_path, land_class)))\n",
    "        self.cumsum_img_per_class = torch.cumsum(self.num_img_per_class, dim=0)\n",
    "        \n",
    "    def __len__(self):\n",
    "        return torch.sum(self.num_img_per_class)\n",
    "\n",
    "    def __getitem__(self, idx):\n",
    "        # calculating which class folder to read from\n",
    "        idx_diff = self.cumsum_img_per_class - idx\n",
    "        class_idx = torch.sum(idx_diff <= 0)\n",
    "        # recalculating index if going to other folders\n",
    "        if class_idx != 0:\n",
    "            idx = idx - self.cumsum_img_per_class[class_idx - 1]\n",
    "        \n",
    "        # getting image tensor and class name\n",
    "        class_name = self.sorted_class_names[class_idx]\n",
    "        class_path = os.path.join(data_path, class_name)\n",
    "        img_name = os.listdir(class_path)[idx]\n",
    "        img_path = os.path.join(class_path, img_name)\n",
    "        img = read_image(img_path).to(torch.float64)\n",
    "    \n",
    "        if self.transform:\n",
    "            img = self.transform(img)\n",
    "        sample = {'image': img, 'land_use': class_name}\n",
    "        return sample"
   ]
  },
  {
   "cell_type": "code",
   "execution_count": null,
   "metadata": {},
   "outputs": [
    {
     "name": "stdout",
     "output_type": "stream",
     "text": [
      "0: AnnualCrop\n",
      "2500: AnnualCrop\n",
      "5000: Forest\n",
      "7500: HerbaceousVegetation\n",
      "10000: Highway\n",
      "12500: Industrial\n",
      "15000: Pasture\n",
      "17500: PermanentCrop\n",
      "20000: Residential\n",
      "22500: River\n",
      "25000: SeaLake\n",
      "Out of bounds works\n"
     ]
    }
   ],
   "source": [
    "# testing to see if dataset iterates correctly\n",
    "eurosat = EuroSATDataset(data_path)\n",
    "for i in range(0, 27000, 100):\n",
    "    eurosat[i] \n",
    "    if i % 2500 == 0:\n",
    "        print(f'{i}: {eurosat[i]['land_use']}')\n",
    "\n",
    "eurosat[26999]\n",
    "try:\n",
    "    eurosat[27000]\n",
    "except:\n",
    "    print('Out of bounds works')"
   ]
  }
 ],
 "metadata": {
  "kernelspec": {
   "display_name": "kidney_seg",
   "language": "python",
   "name": "python3"
  },
  "language_info": {
   "codemirror_mode": {
    "name": "ipython",
    "version": 3
   },
   "file_extension": ".py",
   "mimetype": "text/x-python",
   "name": "python",
   "nbconvert_exporter": "python",
   "pygments_lexer": "ipython3",
   "version": "3.10.14"
  }
 },
 "nbformat": 4,
 "nbformat_minor": 2
}
