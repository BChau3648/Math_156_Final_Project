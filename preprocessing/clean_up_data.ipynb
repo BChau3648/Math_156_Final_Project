{
 "cells": [
  {
   "cell_type": "code",
   "execution_count": 1,
   "metadata": {},
   "outputs": [],
   "source": [
    "import os"
   ]
  },
  {
   "cell_type": "code",
   "execution_count": 2,
   "metadata": {},
   "outputs": [],
   "source": [
    "# path to EuroSAT dataset\n",
    "data_path = '../EuroSAT_RGB'"
   ]
  },
  {
   "cell_type": "code",
   "execution_count": 6,
   "metadata": {},
   "outputs": [],
   "source": [
    "for land_use in os.listdir(data_path):\n",
    "    class_path = os.path.join(data_path, land_use)\n",
    "    for file in os.listdir(class_path):\n",
    "        if 'Zone.Identifier' in file:\n",
    "            os.remove(os.path.join(class_path, file))"
   ]
  }
 ],
 "metadata": {
  "kernelspec": {
   "display_name": "kidney_seg",
   "language": "python",
   "name": "python3"
  },
  "language_info": {
   "codemirror_mode": {
    "name": "ipython",
    "version": 3
   },
   "file_extension": ".py",
   "mimetype": "text/x-python",
   "name": "python",
   "nbconvert_exporter": "python",
   "pygments_lexer": "ipython3",
   "version": "3.10.14"
  }
 },
 "nbformat": 4,
 "nbformat_minor": 2
}
