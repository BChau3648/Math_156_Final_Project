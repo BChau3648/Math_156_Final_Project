{
 "cells": [
  {
   "cell_type": "code",
   "execution_count": null,
   "metadata": {},
   "outputs": [
    {
     "name": "stdout",
     "output_type": "stream",
     "text": [
      "The autoreload extension is already loaded. To reload it, use:\n",
      "  %reload_ext autoreload\n"
     ]
    }
   ],
   "source": [
    "import sys\n",
    "import os\n",
    "import datetime as dt\n",
    "import pickle\n",
    "import torch\n",
    "from torch.utils.data import random_split, DataLoader\n",
    "\n",
    "# TODO: change path name\n",
    "sys.path.append(\"/mnt/c/Users/brian/Documents/UCLA/2024-2025/Winter/Math_156/Final_Project/preprocessing/\")\n",
    "from preprocessing import EuroSATDataset\n",
    "\n",
    "%load_ext autoreload\n",
    "%autoreload 2"
   ]
  },
  {
   "cell_type": "code",
   "execution_count": null,
   "metadata": {},
   "outputs": [],
   "source": [
    "# TODO: change path name\n",
    "# setting paths to EuroSAT data and preprocessing statistics\n",
    "data_path = '/mnt/c/Users/brian/Documents/UCLA/2024-2025/Winter/Math_156/Final_Project/EuroSAT_RGB'\n",
    "preprocessing_stats_path = '/mnt/c/Users/brian/Documents/UCLA/2024-2025/Winter/Math_156/Final_Project/preprocessing/preprocessing_stats.pkl'\n",
    "checkpoint_path = '/mnt/c/Users/brian/Documents/UCLA/2024-2025/Winter/Math_156/Final_Project/checkpoints'"
   ]
  },
  {
   "cell_type": "code",
   "execution_count": null,
   "metadata": {},
   "outputs": [],
   "source": [
    "# getting eurosat dataset\n",
    "eurosat = EuroSATDataset(data_path, preprocessing_stats_path, transform=True)\n",
    "classes = eurosat.sorted_class_names"
   ]
  },
  {
   "cell_type": "code",
   "execution_count": null,
   "metadata": {},
   "outputs": [],
   "source": [
    "# splitting dataset into train, validation, and test\n",
    "generator = torch.Generator().manual_seed(0)\n",
    "train_val_set, test_set = random_split(eurosat, [0.8, 0.2], generator = generator)\n",
    "train_set, val_set = random_split(train_val_set, [0.8, 0.2], generator = generator)"
   ]
  },
  {
   "cell_type": "code",
   "execution_count": null,
   "metadata": {},
   "outputs": [],
   "source": [
    "# TODO: setting hyperparameters\n",
    "batch_size = 64\n",
    "epochs = None \n",
    "optimizer = None\n",
    "loss_fn = None\n",
    "\n",
    "# containers for storing loss data\n",
    "train_loss_idx = []\n",
    "train_loss = []\n",
    "val_loss_idx = []\n",
    "val_loss = []\n",
    "\n",
    "# TODO: initializing model\n",
    "# name of model (for checkpoint file name)\n",
    "model_name = 'cnn'\n",
    "model = None"
   ]
  },
  {
   "cell_type": "code",
   "execution_count": 54,
   "metadata": {},
   "outputs": [],
   "source": [
    "# creating dataloaders\n",
    "train_loader = DataLoader(train_set, batch_size = batch_size, shuffle=True)\n",
    "val_loader = DataLoader(val_set, batch_size = batch_size, shuffle=True)"
   ]
  },
  {
   "cell_type": "code",
   "execution_count": null,
   "metadata": {},
   "outputs": [],
   "source": [
    "def train_one_epoch(epoch_index, optimizer, loss_fn, train_loader, model):\n",
    "    running_loss = 0.\n",
    "    last_loss = 0.\n",
    "\n",
    "    # Here, we use enumerate(training_loader) instead of\n",
    "    # iter(training_loader) so that we can track the batch\n",
    "    # index and do some intra-epoch reporting\n",
    "    for i, data in enumerate(train_loader):\n",
    "        # Every data instance is an input + label pair\n",
    "        inputs = data['image']\n",
    "        labels = data['land_use']\n",
    "\n",
    "        # Zero your gradients for every batch!\n",
    "        optimizer.zero_grad()\n",
    "\n",
    "        # Make predictions for this batch\n",
    "        outputs = model(inputs)\n",
    "\n",
    "        # Compute the loss and its gradients\n",
    "        loss = loss_fn(outputs, labels)\n",
    "        loss.backward()\n",
    "\n",
    "        # Adjust learning weights\n",
    "        optimizer.step()\n",
    "\n",
    "        # Gather data and report\n",
    "        running_loss += loss.item()\n",
    "        if i % 3000 == 2999:\n",
    "            last_loss = running_loss / 3000 # loss per batch\n",
    "            print('  batch {} loss: {}'.format(i + 1, last_loss))\n",
    "            train_loss_idx.append(epoch_index * len(train_loader) + i + 1)\n",
    "            train_loss.append(last_loss)\n",
    "            running_loss = 0.\n",
    "\n",
    "    return last_loss"
   ]
  },
  {
   "cell_type": "code",
   "execution_count": null,
   "metadata": {},
   "outputs": [],
   "source": [
    "def train_model(epochs, train_loss, train_loss_idx, val_loss, val_loss_idx, \n",
    "                optimizer, loss_fn, train_loader, model):\n",
    "    best_vloss = torch.inf \n",
    "    for epoch in range(epochs):\n",
    "        print('EPOCH {}:'.format(epoch + 1))\n",
    "\n",
    "        # Make sure gradient tracking is on, and do a pass over the data\n",
    "        model.train(True)\n",
    "        avg_loss = train_one_epoch(epoch, train_loss, train_loss_idx, optimizer, loss_fn, train_loader, model)\n",
    "\n",
    "        running_vloss = 0.0\n",
    "        # Set the model to evaluation mode, disabling dropout and using population\n",
    "        # statistics for batch normalization.\n",
    "        model.eval()\n",
    "\n",
    "        # Disable gradient computation and reduce memory consumption.\n",
    "        with torch.no_grad():\n",
    "            for i, vdata in enumerate(val_loader):\n",
    "                vinputs = vdata['image']\n",
    "                vlabels = vdata['land_use']\n",
    "                voutputs = model(vinputs)\n",
    "                vloss = loss_fn(voutputs, vlabels)\n",
    "                running_vloss += vloss\n",
    "\n",
    "        avg_vloss = running_vloss / (i + 1)\n",
    "        print('LOSS train {} valid {}'.format(avg_loss, avg_vloss))\n",
    "\n",
    "        # Log the validation running loss averaged per batch\n",
    "        val_loss_idx.append(epoch * len(train_loader) + 1)\n",
    "        val_loss.append(avg_vloss)\n",
    "\n",
    "        # TODO: Track best performance, and save the model's state\n",
    "        if avg_vloss < best_vloss:\n",
    "            print(f\"New best validation loss: {best_vloss}\")\n",
    "            best_vloss = avg_vloss\n",
    "            timestamp = dt.datetime.now().strftime('%Y-%m-%d_%H-%M-%S')\n",
    "            model_path = os.path.join(checkpoint_path, f'{model_name}_{timestamp}_e{epoch}')\n",
    "            result = {\n",
    "                'epoch': epoch, \n",
    "                'optimizer_state_dict': optimizer.state_dict(),\n",
    "                'loss_fn': loss_fn, \n",
    "                'model_state_dict': model.state_dict(),\n",
    "                'train_loss': train_loss, \n",
    "                'train_loss_idx': train_loss_idx, \n",
    "                'val_loss': val_loss, \n",
    "                'val_loss_idx': val_loss_idx\n",
    "            }\n",
    "            print(f'Saving results at {checkpoint_path}')\n",
    "            torch.save(result, model_path)\n",
    "\n",
    "    # save losses\n",
    "    final_losses = {\n",
    "        'train_loss': train_loss, \n",
    "        'train_loss_idx': train_loss_idx, \n",
    "        'val_loss': val_loss,\n",
    "        'val_loss_idx': val_loss_idx\n",
    "    }\n",
    "    with open('losses.pkl', 'wb') as f:\n",
    "        print(f\"Saving losses at {os.path.join(os.getcwd(), 'losses.pkl')}\")\n",
    "        pickle.dump(final_losses, f)\n",
    "\n",
    "    return final_losses"
   ]
  },
  {
   "cell_type": "code",
   "execution_count": null,
   "metadata": {},
   "outputs": [],
   "source": [
    "# TODO: grid search specific to CNN, googlenet, mobilenet"
   ]
  }
 ],
 "metadata": {
  "kernelspec": {
   "display_name": "math_156_project",
   "language": "python",
   "name": "python3"
  },
  "language_info": {
   "codemirror_mode": {
    "name": "ipython",
    "version": 3
   },
   "file_extension": ".py",
   "mimetype": "text/x-python",
   "name": "python",
   "nbconvert_exporter": "python",
   "pygments_lexer": "ipython3",
   "version": "3.13.2"
  }
 },
 "nbformat": 4,
 "nbformat_minor": 2
}
