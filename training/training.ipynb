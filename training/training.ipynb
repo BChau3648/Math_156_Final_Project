{
 "cells": [
  {
   "cell_type": "code",
   "execution_count": 5,
   "metadata": {},
   "outputs": [
    {
     "name": "stdout",
     "output_type": "stream",
     "text": [
      "The autoreload extension is already loaded. To reload it, use:\n",
      "  %reload_ext autoreload\n"
     ]
    }
   ],
   "source": [
    "import sys\n",
    "import os\n",
    "import torch\n",
    "from torch.utils.data import random_split, DataLoader\n",
    "\n",
    "sys.path.append(\"/mnt/c/Users/brian/Documents/UCLA/2024-2025/Winter/Math_156/Final_Project/preprocessing/\")\n",
    "from preprocessing import EuroSATDataset\n",
    "\n",
    "%load_ext autoreload\n",
    "%autoreload 2"
   ]
  },
  {
   "cell_type": "code",
   "execution_count": null,
   "metadata": {},
   "outputs": [],
   "source": [
    "# setting paths to EuroSAT data and preprocessing statistics\n",
    "data_path = '/mnt/c/Users/brian/Documents/UCLA/2024-2025/Winter/Math_156/Final_Project/EuroSAT_RGB'\n",
    "preprocessing_stats_path = '/mnt/c/Users/brian/Documents/UCLA/2024-2025/Winter/Math_156/Final_Project/preprocessing/preprocessing_stats.pkl'"
   ]
  },
  {
   "cell_type": "code",
   "execution_count": null,
   "metadata": {},
   "outputs": [],
   "source": [
    "# getting eurosat dataset\n",
    "eurosat = EuroSATDataset(data_path, preprocessing_stats_path, transform=True)\n",
    "classes = eurosat.sorted_class_names"
   ]
  },
  {
   "cell_type": "code",
   "execution_count": null,
   "metadata": {},
   "outputs": [],
   "source": [
    "# splitting dataset into train, validation, and test\n",
    "generator = torch.Generator().manual_seed(0)\n",
    "train_val_set, test_set = random_split(eurosat, [0.8, 0.2], generator = generator)\n",
    "train_set, val_set = random_split(train_val_set, [0.8, 0.2], generator = generator)"
   ]
  },
  {
   "cell_type": "code",
   "execution_count": null,
   "metadata": {},
   "outputs": [],
   "source": [
    "# TODO: setting hyperparameters\n",
    "batch_size = 64\n",
    "epochs = None \n",
    "optimizer = None\n",
    "loss_fn = None\n",
    "\n",
    "# containers for storing loss data\n",
    "train_loss_idx = []\n",
    "train_loss = []\n",
    "val_loss_idx = []\n",
    "val_loss = []\n",
    "\n",
    "# TODO: initializing model\n",
    "model = None"
   ]
  },
  {
   "cell_type": "code",
   "execution_count": 21,
   "metadata": {},
   "outputs": [],
   "source": [
    "# creating dataloaders\n",
    "train_loader = DataLoader(train_set, batch_size = batch_size, shuffle=True)\n",
    "val_loader = DataLoader(val_set, batch_size = batch_size, shuffle=True)"
   ]
  },
  {
   "cell_type": "code",
   "execution_count": null,
   "metadata": {},
   "outputs": [],
   "source": [
    "def train_one_epoch(epoch_index, optimizer, loss_fn, train_loader, model):\n",
    "    running_loss = 0.\n",
    "    last_loss = 0.\n",
    "\n",
    "    # Here, we use enumerate(training_loader) instead of\n",
    "    # iter(training_loader) so that we can track the batch\n",
    "    # index and do some intra-epoch reporting\n",
    "    for i, data in enumerate(train_loader):\n",
    "        # Every data instance is an input + label pair\n",
    "        inputs = data['image']\n",
    "        labels = data['land_use']\n",
    "\n",
    "        # Zero your gradients for every batch!\n",
    "        optimizer.zero_grad()\n",
    "\n",
    "        # Make predictions for this batch\n",
    "        outputs = model(inputs)\n",
    "\n",
    "        # Compute the loss and its gradients\n",
    "        loss = loss_fn(outputs, labels)\n",
    "        loss.backward()\n",
    "\n",
    "        # Adjust learning weights\n",
    "        optimizer.step()\n",
    "\n",
    "        # Gather data and report\n",
    "        running_loss += loss.item()\n",
    "        if i % 1000 == 999:\n",
    "            last_loss = running_loss / 1000 # loss per batch\n",
    "            print('  batch {} loss: {}'.format(i + 1, last_loss))\n",
    "            train_loss_idx.append(epoch_index * len(train_loader) + i + 1)\n",
    "            train_loss.append(last_loss)\n",
    "            running_loss = 0.\n",
    "\n",
    "    return last_loss"
   ]
  },
  {
   "cell_type": "code",
   "execution_count": null,
   "metadata": {},
   "outputs": [],
   "source": [
    "for epoch in range(epochs):\n",
    "    print('EPOCH {}:'.format(epoch + 1))\n",
    "\n",
    "    # Make sure gradient tracking is on, and do a pass over the data\n",
    "    model.train(True)\n",
    "    avg_loss = train_one_epoch(epoch, optimizer, loss_fn, train_loader, model)\n",
    "\n",
    "    running_vloss = 0.0\n",
    "    # Set the model to evaluation mode, disabling dropout and using population\n",
    "    # statistics for batch normalization.\n",
    "    model.eval()\n",
    "\n",
    "    # Disable gradient computation and reduce memory consumption.\n",
    "    with torch.no_grad():\n",
    "        for i, vdata in enumerate(val_loader):\n",
    "            vinputs = vdata['image']\n",
    "            vlabels = vdata['land_use']\n",
    "            voutputs = model(vinputs)\n",
    "            vloss = loss_fn(voutputs, vlabels)\n",
    "            running_vloss += vloss\n",
    "\n",
    "    avg_vloss = running_vloss / (i + 1)\n",
    "    print('LOSS train {} valid {}'.format(avg_loss, avg_vloss))\n",
    "\n",
    "    # Log the validation running loss averaged per batch\n",
    "    val_loss_idx.append(epoch * len(train_loader) + 1)\n",
    "    val_loss.append(avg_vloss)\n",
    "\n",
    "    # TODO: Track best performance, and save the model's state\n",
    "    if avg_vloss < best_vloss:\n",
    "        best_vloss = avg_vloss\n",
    "        model_path = 'model_{}_{}'.format(timestamp, epoch)\n",
    "        torch.save(model.state_dict(), model_path)"
   ]
  }
 ],
 "metadata": {
  "kernelspec": {
   "display_name": "math_156_project",
   "language": "python",
   "name": "python3"
  },
  "language_info": {
   "codemirror_mode": {
    "name": "ipython",
    "version": 3
   },
   "file_extension": ".py",
   "mimetype": "text/x-python",
   "name": "python",
   "nbconvert_exporter": "python",
   "pygments_lexer": "ipython3",
   "version": "3.13.2"
  }
 },
 "nbformat": 4,
 "nbformat_minor": 2
}
