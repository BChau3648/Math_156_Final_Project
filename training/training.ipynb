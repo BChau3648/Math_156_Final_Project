{
 "cells": [
  {
   "cell_type": "code",
   "execution_count": 1,
   "metadata": {},
   "outputs": [],
   "source": [
    "# TODO: separate train/val set and test set before preprocessing"
   ]
  },
  {
   "cell_type": "code",
   "execution_count": 1,
   "metadata": {},
   "outputs": [],
   "source": [
    "import sys\n",
    "import os\n",
    "import datetime as dt\n",
    "import time\n",
    "from tqdm import tqdm\n",
    "import numpy as np\n",
    "import pandas as pd\n",
    "import matplotlib.pyplot as plt\n",
    "import torch\n",
    "from torch import nn\n",
    "from torch.utils.data import random_split, DataLoader\n",
    "from sklearn.metrics import precision_recall_fscore_support\n",
    "\n",
    "\n",
    "# TODO: change path name\n",
    "sys.path.append(\"/home/bchau/Math_156_temp/Final_Project/preprocessing/\")\n",
    "from preprocessing import EuroSATDataset\n",
    "\n",
    "%load_ext autoreload\n",
    "%autoreload 2"
   ]
  },
  {
   "cell_type": "code",
   "execution_count": 2,
   "metadata": {},
   "outputs": [],
   "source": [
    "device = torch.device(\"cuda\" if torch.cuda.is_available() else \"cpu\")"
   ]
  },
  {
   "cell_type": "code",
   "execution_count": 107,
   "metadata": {},
   "outputs": [],
   "source": [
    "# TODO: change path name\n",
    "# setting paths to EuroSAT data and preprocessing statistics\n",
    "data_path = '/home/bchau/Math_156_temp/Final_Project/EuroSAT_RGB'\n",
    "preprocessing_stats_path = '/home/bchau/Math_156_temp/Final_Project/preprocessing/preprocessing_stats.pkl'\n",
    "checkpoint_path = '/home/bchau/Math_156_temp/Final_Project/checkpoints'"
   ]
  },
  {
   "cell_type": "code",
   "execution_count": 108,
   "metadata": {},
   "outputs": [],
   "source": [
    "# getting eurosat dataset\n",
    "eurosat = EuroSATDataset(data_path, preprocessing_stats_path, transform=True)\n",
    "classes = eurosat.sorted_class_names"
   ]
  },
  {
   "cell_type": "code",
   "execution_count": 122,
   "metadata": {},
   "outputs": [],
   "source": [
    "# splitting dataset into train, validation, and test\n",
    "generator = torch.Generator().manual_seed(0)\n",
    "train_val_set, test_set = random_split(eurosat, [0.8, 0.2], generator = generator)\n",
    "train_set, val_set = random_split(train_val_set, [0.8, 0.2], generator = generator)"
   ]
  },
  {
   "cell_type": "code",
   "execution_count": 147,
   "metadata": {},
   "outputs": [],
   "source": [
    "class ConvBlock(nn.Module):\n",
    "    def __init__(self, in_channels, out_channels):\n",
    "        super().__init__()\n",
    "        self.conv = nn.Conv2d(in_channels, out_channels, 3)\n",
    "        self.pooling = nn.MaxPool2d(2, 2)\n",
    "        self.batch_norm = nn.BatchNorm2d(out_channels, track_running_stats=False)\n",
    "        self.relu = nn.ReLU()\n",
    "    \n",
    "    def forward(self, x):\n",
    "        x = self.conv(x) \n",
    "        x = self.pooling(x)\n",
    "        x = self.batch_norm(x) \n",
    "        x = self.relu(x) \n",
    "        return x"
   ]
  },
  {
   "cell_type": "code",
   "execution_count": 148,
   "metadata": {},
   "outputs": [],
   "source": [
    "class FullyConnectedBlock(nn.Module):\n",
    "    def __init__(self, in_channels, out_channels, is_output=False):\n",
    "        super().__init__()\n",
    "        self.is_output = is_output\n",
    "        self.dense = nn.Linear(in_channels, out_channels)\n",
    "        if not self.is_output:\n",
    "            self.batch_norm = nn.BatchNorm1d(out_channels, track_running_stats=False)\n",
    "            self.relu = nn.ReLU()\n",
    "\n",
    "    def forward(self, x):\n",
    "        x = self.dense(x)\n",
    "        if not self.is_output: \n",
    "            x = self.batch_norm(x)\n",
    "            x = self.relu(x)\n",
    "        return x"
   ]
  },
  {
   "cell_type": "code",
   "execution_count": 153,
   "metadata": {},
   "outputs": [
    {
     "data": {
      "text/plain": [
       "torch.Size([10, 10])"
      ]
     },
     "execution_count": 153,
     "metadata": {},
     "output_type": "execute_result"
    }
   ],
   "source": [
    "class Net(nn.Module):\n",
    "    def __init__(self):\n",
    "        super().__init__()\n",
    "        self.conv_block1 = ConvBlock(3, 8)\n",
    "        self.conv_block2 = ConvBlock(8, 12)\n",
    "        self.conv_block3 = ConvBlock(12, 16)\n",
    "        flatten_channels = 16 * 6 * 6\n",
    "        self.fc_block1 = FullyConnectedBlock(flatten_channels, flatten_channels // 2)\n",
    "        self.fc_block2 = FullyConnectedBlock(flatten_channels // 2, flatten_channels // 2**2)\n",
    "        self.fc_block3 = FullyConnectedBlock(flatten_channels // 2**2, flatten_channels // 2**3)\n",
    "        self.fc_block4 = FullyConnectedBlock(flatten_channels // 2**3, 10, is_output=True)\n",
    "        self.conv_blocks = nn.Sequential(\n",
    "            self.conv_block1, \n",
    "            self.conv_block2, \n",
    "            self.conv_block3\n",
    "        )\n",
    "        self.fc_blocks = nn.Sequential(\n",
    "            self.fc_block1,\n",
    "            self.fc_block2,\n",
    "            self.fc_block3,\n",
    "            self.fc_block4\n",
    "        )\n",
    "\n",
    "    def forward(self, x):\n",
    "        x = self.conv_blocks(x)\n",
    "        #  flatten all dimensions except batch\n",
    "        x = torch.flatten(x, 1) \n",
    "        x = self.fc_blocks(x)\n",
    "        return x\n",
    "    \n",
    "test_model = Net()\n",
    "test_img = torch.rand((10, 3, 64, 64))\n",
    "test_model(test_img).shape"
   ]
  },
  {
   "cell_type": "code",
   "execution_count": 154,
   "metadata": {},
   "outputs": [],
   "source": [
    "# Initializing model\n",
    "model_name = 'cnn' # name of model (for checkpoint file name)\n",
    "model = Net().to(device)"
   ]
  },
  {
   "cell_type": "code",
   "execution_count": 157,
   "metadata": {},
   "outputs": [],
   "source": [
    "# TODO: setting hyperparameters\n",
    "batch_size = 64\n",
    "epochs = 50\n",
    "optimizer = torch.optim.SGD(model.parameters())\n",
    "loss_fn = torch.nn.CrossEntropyLoss()\n",
    "\n",
    "# containers for storing loss data and epoch times\n",
    "train_loss = []\n",
    "train_loss_idx = []\n",
    "val_loss = []\n",
    "val_acc = []\n",
    "val_loss_idx = []\n",
    "epoch_times = []\n",
    "\n",
    "# tracking when to checkpoint model\n",
    "checkpoint_after_epochs = 5"
   ]
  },
  {
   "cell_type": "code",
   "execution_count": 158,
   "metadata": {},
   "outputs": [],
   "source": [
    "# creating dataloaders\n",
    "train_loader = DataLoader(train_set, batch_size = batch_size, shuffle=True)\n",
    "val_loader = DataLoader(val_set, batch_size = batch_size, shuffle=True)\n",
    "test_loader = DataLoader(test_set, batch_size = batch_size)"
   ]
  },
  {
   "cell_type": "code",
   "execution_count": 159,
   "metadata": {},
   "outputs": [
    {
     "name": "stdout",
     "output_type": "stream",
     "text": [
      "torch.Size([64, 3, 64, 64])\n",
      "torch.float32\n",
      "torch.Size([64])\n",
      "torch.int64\n",
      "torch.Size([64, 10])\n",
      "torch.float32\n",
      "tensor(2.4960, device='cuda:0', grad_fn=<NllLossBackward0>)\n"
     ]
    }
   ],
   "source": [
    "# Testing loss\n",
    "for data in train_loader:\n",
    "    imgs = data['image'].to(device)\n",
    "    labels = data['land_use'].to(device)\n",
    "    print(imgs.shape)\n",
    "    print(imgs.dtype)\n",
    "    print(labels.shape)\n",
    "    print(labels.dtype)\n",
    "    test_output = model(imgs)\n",
    "    print(test_output.shape)\n",
    "    print(test_output.dtype)\n",
    "    print(torch.nn.CrossEntropyLoss()(test_output, labels))\n",
    "    break"
   ]
  },
  {
   "cell_type": "code",
   "execution_count": 160,
   "metadata": {},
   "outputs": [],
   "source": [
    "def train_one_epoch(epoch_index, optimizer, loss_fn, train_loader, model, \n",
    "                    train_loss, train_loss_idx):\n",
    "    running_loss = 0.\n",
    "    # Here, we use enumerate(training_loader) instead of\n",
    "    # iter(training_loader) so that we can track the batch\n",
    "    # index and do some intra-epoch reporting\n",
    "    for i, data in enumerate(train_loader):\n",
    "        # Every data instance is an input + label pair\n",
    "        inputs = data['image'].to(device)\n",
    "        labels = data['land_use'].to(device)\n",
    "\n",
    "        # Zero your gradients for every batch!\n",
    "        optimizer.zero_grad()\n",
    "\n",
    "        # Make predictions for this batch\n",
    "        outputs = model(inputs)\n",
    "\n",
    "        # Compute the loss and its gradients\n",
    "        loss = loss_fn(outputs, labels)\n",
    "        loss.backward()\n",
    "\n",
    "        # Adjust learning weights\n",
    "        optimizer.step()\n",
    "\n",
    "        # Gather training batch loss and report\n",
    "        running_loss += loss.item()\n",
    "        if i % 90 == 89:\n",
    "            last_loss = running_loss / 90 # loss per batch\n",
    "            timestamp = dt.datetime.now().strftime('%Y-%m-%d %H-%M-%S')\n",
    "            print('{} batch {} loss: {}'.format(timestamp, i + 1, last_loss))\n",
    "            train_loss_idx.append(epoch_index * len(train_loader) + i + 1)\n",
    "            train_loss.append(last_loss)\n",
    "            running_loss = 0.\n",
    "\n",
    "    return last_loss"
   ]
  },
  {
   "cell_type": "code",
   "execution_count": 161,
   "metadata": {},
   "outputs": [],
   "source": [
    "def save_checkpoint(epoch, batch_size, optimizer, loss_fn, model, \n",
    "               train_loss, train_loss_idx, val_loss, val_acc, val_loss_idx, status):\n",
    "    model_path = os.path.join(checkpoint_path, f'{status}_{model_name}.tar')\n",
    "    result = {\n",
    "        'epoch': epoch, \n",
    "        'batch_size': batch_size,\n",
    "        'optimizer_state_dict': optimizer.state_dict(),\n",
    "        'loss_fn': loss_fn, \n",
    "        'model_state_dict': model.state_dict(),\n",
    "        'train_loss': train_loss, \n",
    "        'train_loss_idx': train_loss_idx, \n",
    "        'val_loss': val_loss, \n",
    "        'val_acc': val_acc,\n",
    "        'val_loss_idx': val_loss_idx\n",
    "    }\n",
    "    timestamp = dt.datetime.now().strftime('%Y-%m-%d %H-%M-%S')\n",
    "    print(f'{timestamp} Saving results at {checkpoint_path}')\n",
    "    torch.save(result, model_path)"
   ]
  },
  {
   "cell_type": "code",
   "execution_count": 162,
   "metadata": {},
   "outputs": [],
   "source": [
    "def load_checkpoint(checkpoint_path, model_type, optimizer_type=None):\n",
    "    checkpoint = torch.load(checkpoint_path, weights_only=False)\n",
    "    model_type.load_state_dict(checkpoint['model_state_dict'])\n",
    "    # returns all training information if optimizer is provided\n",
    "    if optimizer_type:\n",
    "        optimizer_type.load_state_dict(checkpoint['optimizer_state_dict'])\n",
    "        model_epoch = checkpoint['epoch']\n",
    "        batch_size = checkpoint['batch_size']\n",
    "        loss_fn = checkpoint['loss_fn']\n",
    "        train_loss = checkpoint['train_loss']\n",
    "        train_loss_idx = checkpoint['train_loss_idx']\n",
    "        val_loss = checkpoint['val_loss']\n",
    "        val_acc = checkpoint.get('val_acc', None)\n",
    "        val_loss_idx = checkpoint['val_loss_idx']\n",
    "        return (model_epoch, batch_size, optimizer_type, loss_fn, model_type, \n",
    "                train_loss, train_loss_idx, val_loss, val_acc, val_loss_idx)\n",
    "    # otherwise only return model\n",
    "    return model_type"
   ]
  },
  {
   "cell_type": "code",
   "execution_count": 163,
   "metadata": {},
   "outputs": [],
   "source": [
    "def train_model(epochs, optimizer, loss_fn, train_loader, model):\n",
    "    best_vloss = torch.inf \n",
    "    for epoch in range(epochs):\n",
    "        timestamp = dt.datetime.now().strftime('%Y-%m-%d %H-%M-%S')\n",
    "        print(f\"{timestamp} Epoch {epoch}/{epochs}\")\n",
    "\n",
    "        # Make sure gradient tracking is on, and do a pass over the data\n",
    "        model.train()\n",
    "        epoch_start_time = time.time()\n",
    "        avg_loss = train_one_epoch(epoch, optimizer, loss_fn, train_loader, model, train_loss, train_loss_idx)\n",
    "        epoch_end_time = time.time()\n",
    "        epoch_times.append(epoch_end_time - epoch_start_time)\n",
    "\n",
    "        timestamp = dt.datetime.now().strftime('%Y-%m-%d %H-%M-%S')\n",
    "        print(f\"{timestamp} Finished training in {str(dt.timedelta(seconds = epoch_times[-1]))}\")\n",
    "\n",
    "        # Set the model to evaluation mode, disabling dropout and using population\n",
    "        # statistics for batch normalization.\n",
    "        model.eval()\n",
    "\n",
    "        running_vloss = 0.0\n",
    "        running_vacc = 0.\n",
    "        # Disable gradient computation and reduce memory consumption.\n",
    "        with torch.no_grad():\n",
    "            for i, vdata in enumerate(val_loader):\n",
    "                vinputs = vdata['image'].to(device)\n",
    "                vlabels = vdata['land_use'].to(device)\n",
    "                voutputs = model(vinputs)\n",
    "                vloss = loss_fn(voutputs, vlabels)\n",
    "                running_vloss += vloss.item()\n",
    "\n",
    "                vpred = torch.argmax(voutputs, dim=1)\n",
    "                vacc = (torch.sum(vlabels == vpred) / len(vlabels))\n",
    "                running_vacc += vacc.item()\n",
    "\n",
    "        avg_vloss = running_vloss / (i + 1)\n",
    "        avg_vacc = running_vacc / (i + 1)\n",
    "        timestamp = dt.datetime.now().strftime('%Y-%m-%d %H-%M-%S')\n",
    "        print('{} Loss train {} valid {}; Accuracy val {}'.format(timestamp, avg_loss, avg_vloss, avg_vacc))\n",
    "\n",
    "        # Log the validation running loss averaged per batch\n",
    "        val_loss_idx.append(len(train_loader) * (epoch + 1))\n",
    "        val_loss.append(avg_vloss)\n",
    "        val_acc.append(avg_vacc)\n",
    "\n",
    "        # Track best performance, and save the model's state\n",
    "        if avg_vloss < best_vloss:\n",
    "            best_vloss = avg_vloss\n",
    "            timestamp = dt.datetime.now().strftime('%Y-%m-%d %H-%M-%S')\n",
    "            print(f\"{timestamp} New best validation loss: {best_vloss}\")\n",
    "            save_checkpoint(epoch + 1, train_loader.batch_size, optimizer, loss_fn, model, \n",
    "                            train_loss, train_loss_idx, val_loss, val_acc, val_loss_idx, 'best')\n",
    "        elif epoch % checkpoint_after_epochs == checkpoint_after_epochs - 1:\n",
    "            save_checkpoint(epoch + 1, train_loader.batch_size, optimizer, loss_fn, model, \n",
    "                            train_loss, train_loss_idx, val_loss, val_acc, val_loss_idx, 'latest')\n",
    "        \n",
    "        print('=================================')\n",
    "\n",
    "    save_checkpoint(epoch + 1, train_loader.batch_size, optimizer, loss_fn, model, \n",
    "                    train_loss, train_loss_idx, val_loss, val_acc, val_loss_idx, 'latest')\n",
    "    return model"
   ]
  },
  {
   "cell_type": "code",
   "execution_count": 164,
   "metadata": {},
   "outputs": [
    {
     "name": "stdout",
     "output_type": "stream",
     "text": [
      "2025-03-13 02-40-19 Epoch 0/50\n",
      "2025-03-13 02-40-37 batch 90 loss: 2.2649429745144314\n",
      "2025-03-13 02-40-54 batch 180 loss: 2.050251399146186\n",
      "2025-03-13 02-41-12 batch 270 loss: 1.9447123342090182\n",
      "2025-03-13 02-41-12 Finished training in 0:00:53.285620\n",
      "2025-03-13 02-41-24 Loss train 1.9447123342090182 valid 1.9005651053260355; Accuracy val 0.43864889705882354\n",
      "2025-03-13 02-41-24 New best validation loss: 1.9005651053260355\n",
      "2025-03-13 02-41-24 Saving results at /home/bchau/Math_156_temp/Final_Project/checkpoints\n",
      "=================================\n",
      "2025-03-13 02-41-24 Epoch 1/50\n",
      "2025-03-13 02-41-43 batch 90 loss: 1.845254233148363\n",
      "2025-03-13 02-42-02 batch 180 loss: 1.7593025432692633\n",
      "2025-03-13 02-42-21 batch 270 loss: 1.701618084642622\n",
      "2025-03-13 02-42-21 Finished training in 0:00:56.548411\n",
      "2025-03-13 02-42-33 Loss train 1.701618084642622 valid 1.6807498984477098; Accuracy val 0.49747242647058826\n",
      "2025-03-13 02-42-33 New best validation loss: 1.6807498984477098\n",
      "2025-03-13 02-42-33 Saving results at /home/bchau/Math_156_temp/Final_Project/checkpoints\n",
      "=================================\n",
      "2025-03-13 02-42-33 Epoch 2/50\n",
      "2025-03-13 02-42-51 batch 90 loss: 1.6279630952411228\n",
      "2025-03-13 02-43-09 batch 180 loss: 1.5822442015012106\n",
      "2025-03-13 02-43-26 batch 270 loss: 1.531439831521776\n",
      "2025-03-13 02-43-26 Finished training in 0:00:53.222413\n",
      "2025-03-13 02-43-38 Loss train 1.531439831521776 valid 1.5341872853391312; Accuracy val 0.5202205882352942\n",
      "2025-03-13 02-43-38 New best validation loss: 1.5341872853391312\n",
      "2025-03-13 02-43-38 Saving results at /home/bchau/Math_156_temp/Final_Project/checkpoints\n",
      "=================================\n",
      "2025-03-13 02-43-38 Epoch 3/50\n",
      "2025-03-13 02-43-55 batch 90 loss: 1.4744515591197545\n",
      "2025-03-13 02-44-12 batch 180 loss: 1.4441403097576566\n",
      "2025-03-13 02-44-30 batch 270 loss: 1.4352730300691392\n",
      "2025-03-13 02-44-30 Finished training in 0:00:51.781365\n",
      "2025-03-13 02-44-41 Loss train 1.4352730300691392 valid 1.417513139107648; Accuracy val 0.5703125\n",
      "2025-03-13 02-44-41 New best validation loss: 1.417513139107648\n",
      "2025-03-13 02-44-41 Saving results at /home/bchau/Math_156_temp/Final_Project/checkpoints\n",
      "=================================\n",
      "2025-03-13 02-44-41 Epoch 4/50\n",
      "2025-03-13 02-44-58 batch 90 loss: 1.3858796172671848\n",
      "2025-03-13 02-45-16 batch 180 loss: 1.3477101961771647\n",
      "2025-03-13 02-45-33 batch 270 loss: 1.3438355538580153\n",
      "2025-03-13 02-45-33 Finished training in 0:00:51.516246\n",
      "2025-03-13 02-45-44 Loss train 1.3438355538580153 valid 1.3443928799208473; Accuracy val 0.58203125\n",
      "2025-03-13 02-45-44 New best validation loss: 1.3443928799208473\n",
      "2025-03-13 02-45-44 Saving results at /home/bchau/Math_156_temp/Final_Project/checkpoints\n",
      "=================================\n",
      "2025-03-13 02-45-44 Epoch 5/50\n",
      "2025-03-13 02-46-01 batch 90 loss: 1.3247532526652017\n",
      "2025-03-13 02-46-18 batch 180 loss: 1.289744852648841\n",
      "2025-03-13 02-46-36 batch 270 loss: 1.24541883998447\n",
      "2025-03-13 02-46-36 Finished training in 0:00:51.409442\n",
      "2025-03-13 02-46-47 Loss train 1.24541883998447 valid 1.2763279027798597; Accuracy val 0.5944393382352942\n",
      "2025-03-13 02-46-47 New best validation loss: 1.2763279027798597\n",
      "2025-03-13 02-46-47 Saving results at /home/bchau/Math_156_temp/Final_Project/checkpoints\n",
      "=================================\n",
      "2025-03-13 02-46-47 Epoch 6/50\n",
      "2025-03-13 02-47-04 batch 90 loss: 1.228933937019772\n",
      "2025-03-13 02-47-21 batch 180 loss: 1.2390235013431974\n",
      "2025-03-13 02-47-39 batch 270 loss: 1.1915357457266913\n",
      "2025-03-13 02-47-39 Finished training in 0:00:51.688832\n",
      "2025-03-13 02-47-51 Loss train 1.1915357457266913 valid 1.20778971647515; Accuracy val 0.6261488970588235\n",
      "2025-03-13 02-47-51 New best validation loss: 1.20778971647515\n",
      "2025-03-13 02-47-51 Saving results at /home/bchau/Math_156_temp/Final_Project/checkpoints\n",
      "=================================\n",
      "2025-03-13 02-47-51 Epoch 7/50\n",
      "2025-03-13 02-48-08 batch 90 loss: 1.1822202457322015\n",
      "2025-03-13 02-48-25 batch 180 loss: 1.159605825609631\n",
      "2025-03-13 02-48-42 batch 270 loss: 1.1340837346182928\n",
      "2025-03-13 02-48-42 Finished training in 0:00:51.686152\n",
      "2025-03-13 02-48-54 Loss train 1.1340837346182928 valid 1.1521805822849274; Accuracy val 0.6426930147058824\n",
      "2025-03-13 02-48-54 New best validation loss: 1.1521805822849274\n",
      "2025-03-13 02-48-54 Saving results at /home/bchau/Math_156_temp/Final_Project/checkpoints\n",
      "=================================\n",
      "2025-03-13 02-48-54 Epoch 8/50\n",
      "2025-03-13 02-49-11 batch 90 loss: 1.1215268969535828\n",
      "2025-03-13 02-49-29 batch 180 loss: 1.10603818098704\n",
      "2025-03-13 02-49-46 batch 270 loss: 1.0841992576917012\n",
      "2025-03-13 02-49-46 Finished training in 0:00:51.686044\n",
      "2025-03-13 02-49-57 Loss train 1.0841992576917012 valid 1.107189316959942; Accuracy val 0.6617647058823529\n",
      "2025-03-13 02-49-57 New best validation loss: 1.107189316959942\n",
      "2025-03-13 02-49-57 Saving results at /home/bchau/Math_156_temp/Final_Project/checkpoints\n",
      "=================================\n",
      "2025-03-13 02-49-58 Epoch 9/50\n",
      "2025-03-13 02-50-15 batch 90 loss: 1.0641524076461792\n",
      "2025-03-13 02-50-32 batch 180 loss: 1.0527801401085324\n",
      "2025-03-13 02-50-49 batch 270 loss: 1.0407125658459133\n",
      "2025-03-13 02-50-49 Finished training in 0:00:51.702693\n",
      "2025-03-13 02-51-01 Loss train 1.0407125658459133 valid 1.0605520036290674; Accuracy val 0.6737132352941176\n",
      "2025-03-13 02-51-01 New best validation loss: 1.0605520036290674\n",
      "2025-03-13 02-51-01 Saving results at /home/bchau/Math_156_temp/Final_Project/checkpoints\n",
      "=================================\n",
      "2025-03-13 02-51-01 Epoch 10/50\n",
      "2025-03-13 02-51-18 batch 90 loss: 1.0016302910115984\n",
      "2025-03-13 02-51-36 batch 180 loss: 1.0154981904559666\n",
      "2025-03-13 02-51-53 batch 270 loss: 1.0047801832358043\n",
      "2025-03-13 02-51-53 Finished training in 0:00:51.797311\n",
      "2025-03-13 02-52-04 Loss train 1.0047801832358043 valid 1.0218498645459904; Accuracy val 0.6870404411764706\n",
      "2025-03-13 02-52-04 New best validation loss: 1.0218498645459904\n",
      "2025-03-13 02-52-04 Saving results at /home/bchau/Math_156_temp/Final_Project/checkpoints\n",
      "=================================\n",
      "2025-03-13 02-52-04 Epoch 11/50\n",
      "2025-03-13 02-52-21 batch 90 loss: 0.9542469196849399\n",
      "2025-03-13 02-52-38 batch 180 loss: 0.9704806016551124\n",
      "2025-03-13 02-52-55 batch 270 loss: 0.9669863998889923\n",
      "2025-03-13 02-52-55 Finished training in 0:00:50.958849\n",
      "2025-03-13 02-53-07 Loss train 0.9669863998889923 valid 0.9742170545984717; Accuracy val 0.7005974264705882\n",
      "2025-03-13 02-53-07 New best validation loss: 0.9742170545984717\n",
      "2025-03-13 02-53-07 Saving results at /home/bchau/Math_156_temp/Final_Project/checkpoints\n",
      "=================================\n",
      "2025-03-13 02-53-07 Epoch 12/50\n",
      "2025-03-13 02-53-24 batch 90 loss: 0.9393697771761153\n",
      "2025-03-13 02-53-41 batch 180 loss: 0.9204642216364542\n",
      "2025-03-13 02-53-58 batch 270 loss: 0.9333769904242621\n",
      "2025-03-13 02-53-58 Finished training in 0:00:50.739284\n",
      "2025-03-13 02-54-09 Loss train 0.9333769904242621 valid 0.9290817528963089; Accuracy val 0.7058823529411765\n",
      "2025-03-13 02-54-09 New best validation loss: 0.9290817528963089\n",
      "2025-03-13 02-54-09 Saving results at /home/bchau/Math_156_temp/Final_Project/checkpoints\n",
      "=================================\n",
      "2025-03-13 02-54-09 Epoch 13/50\n",
      "2025-03-13 02-54-26 batch 90 loss: 0.9087354991171095\n",
      "2025-03-13 02-54-43 batch 180 loss: 0.8934556868341234\n",
      "2025-03-13 02-55-00 batch 270 loss: 0.8843789921866523\n",
      "2025-03-13 02-55-00 Finished training in 0:00:51.157158\n",
      "2025-03-13 02-55-12 Loss train 0.8843789921866523 valid 0.9098690292414497; Accuracy val 0.7162224264705882\n",
      "2025-03-13 02-55-12 New best validation loss: 0.9098690292414497\n",
      "2025-03-13 02-55-12 Saving results at /home/bchau/Math_156_temp/Final_Project/checkpoints\n",
      "=================================\n",
      "2025-03-13 02-55-12 Epoch 14/50\n",
      "2025-03-13 02-55-29 batch 90 loss: 0.8810431129402585\n",
      "2025-03-13 02-55-46 batch 180 loss: 0.849425658914778\n",
      "2025-03-13 02-56-03 batch 270 loss: 0.861449349588818\n",
      "2025-03-13 02-56-03 Finished training in 0:00:50.884171\n",
      "2025-03-13 02-56-14 Loss train 0.861449349588818 valid 0.9049918283434475; Accuracy val 0.7090992647058824\n",
      "2025-03-13 02-56-14 New best validation loss: 0.9049918283434475\n",
      "2025-03-13 02-56-14 Saving results at /home/bchau/Math_156_temp/Final_Project/checkpoints\n",
      "=================================\n",
      "2025-03-13 02-56-14 Epoch 15/50\n",
      "2025-03-13 02-56-31 batch 90 loss: 0.8214622735977173\n",
      "2025-03-13 02-56-48 batch 180 loss: 0.8433162947495778\n",
      "2025-03-13 02-57-05 batch 270 loss: 0.8267200529575348\n",
      "2025-03-13 02-57-05 Finished training in 0:00:50.586615\n",
      "2025-03-13 02-57-16 Loss train 0.8267200529575348 valid 0.8448049960767522; Accuracy val 0.73046875\n",
      "2025-03-13 02-57-16 New best validation loss: 0.8448049960767522\n",
      "2025-03-13 02-57-16 Saving results at /home/bchau/Math_156_temp/Final_Project/checkpoints\n",
      "=================================\n",
      "2025-03-13 02-57-16 Epoch 16/50\n",
      "2025-03-13 02-57-33 batch 90 loss: 0.818271298540963\n",
      "2025-03-13 02-57-50 batch 180 loss: 0.8253616200553047\n",
      "2025-03-13 02-58-07 batch 270 loss: 0.8032322757773929\n",
      "2025-03-13 02-58-07 Finished training in 0:00:50.553257\n",
      "2025-03-13 02-58-18 Loss train 0.8032322757773929 valid 0.8345627153621; Accuracy val 0.7313878676470589\n",
      "2025-03-13 02-58-18 New best validation loss: 0.8345627153621\n",
      "2025-03-13 02-58-18 Saving results at /home/bchau/Math_156_temp/Final_Project/checkpoints\n",
      "=================================\n",
      "2025-03-13 02-58-18 Epoch 17/50\n",
      "2025-03-13 02-58-35 batch 90 loss: 0.7902679092354244\n",
      "2025-03-13 02-58-52 batch 180 loss: 0.7947622133625878\n",
      "2025-03-13 02-59-09 batch 270 loss: 0.789235610432095\n",
      "2025-03-13 02-59-09 Finished training in 0:00:50.717418\n",
      "2025-03-13 02-59-21 Loss train 0.789235610432095 valid 0.8284129842239267; Accuracy val 0.7339154411764706\n",
      "2025-03-13 02-59-21 New best validation loss: 0.8284129842239267\n",
      "2025-03-13 02-59-21 Saving results at /home/bchau/Math_156_temp/Final_Project/checkpoints\n",
      "=================================\n",
      "2025-03-13 02-59-21 Epoch 18/50\n",
      "2025-03-13 02-59-37 batch 90 loss: 0.76752932800187\n",
      "2025-03-13 02-59-54 batch 180 loss: 0.7665233002768622\n",
      "2025-03-13 03-00-11 batch 270 loss: 0.7722031411197451\n",
      "2025-03-13 03-00-11 Finished training in 0:00:50.881056\n",
      "2025-03-13 03-00-23 Loss train 0.7722031411197451 valid 0.8021677636048373; Accuracy val 0.7375919117647058\n",
      "2025-03-13 03-00-23 New best validation loss: 0.8021677636048373\n",
      "2025-03-13 03-00-23 Saving results at /home/bchau/Math_156_temp/Final_Project/checkpoints\n",
      "=================================\n",
      "2025-03-13 03-00-23 Epoch 19/50\n",
      "2025-03-13 03-00-40 batch 90 loss: 0.7564512471357981\n",
      "2025-03-13 03-00-57 batch 180 loss: 0.7551259775956471\n",
      "2025-03-13 03-01-14 batch 270 loss: 0.7453986412949032\n",
      "2025-03-13 03-01-14 Finished training in 0:00:50.954093\n",
      "2025-03-13 03-01-25 Loss train 0.7453986412949032 valid 0.7941158457713968; Accuracy val 0.7369025735294118\n",
      "2025-03-13 03-01-25 New best validation loss: 0.7941158457713968\n",
      "2025-03-13 03-01-25 Saving results at /home/bchau/Math_156_temp/Final_Project/checkpoints\n",
      "=================================\n",
      "2025-03-13 03-01-25 Epoch 20/50\n",
      "2025-03-13 03-01-42 batch 90 loss: 0.7488132648997836\n",
      "2025-03-13 03-01-59 batch 180 loss: 0.7450542820824517\n",
      "2025-03-13 03-02-17 batch 270 loss: 0.7228818668259515\n",
      "2025-03-13 03-02-17 Finished training in 0:00:51.096991\n",
      "2025-03-13 03-02-28 Loss train 0.7228818668259515 valid 0.7756718116648057; Accuracy val 0.7410386029411765\n",
      "2025-03-13 03-02-28 New best validation loss: 0.7756718116648057\n",
      "2025-03-13 03-02-28 Saving results at /home/bchau/Math_156_temp/Final_Project/checkpoints\n",
      "=================================\n",
      "2025-03-13 03-02-28 Epoch 21/50\n",
      "2025-03-13 03-02-45 batch 90 loss: 0.7193502320183648\n",
      "2025-03-13 03-03-02 batch 180 loss: 0.7046630551417669\n",
      "2025-03-13 03-03-19 batch 270 loss: 0.7121747857994504\n",
      "2025-03-13 03-03-19 Finished training in 0:00:50.564369\n",
      "2025-03-13 03-03-30 Loss train 0.7121747857994504 valid 0.7358986945713267; Accuracy val 0.7598805147058824\n",
      "2025-03-13 03-03-30 New best validation loss: 0.7358986945713267\n",
      "2025-03-13 03-03-30 Saving results at /home/bchau/Math_156_temp/Final_Project/checkpoints\n",
      "=================================\n",
      "2025-03-13 03-03-30 Epoch 22/50\n",
      "2025-03-13 03-03-47 batch 90 loss: 0.7032298836443159\n",
      "2025-03-13 03-04-04 batch 180 loss: 0.6958715067969428\n",
      "2025-03-13 03-04-21 batch 270 loss: 0.706182853711976\n",
      "2025-03-13 03-04-21 Finished training in 0:00:50.853488\n",
      "2025-03-13 03-04-32 Loss train 0.706182853711976 valid 0.7419361033860374; Accuracy val 0.7596507352941176\n",
      "=================================\n",
      "2025-03-13 03-04-32 Epoch 23/50\n",
      "2025-03-13 03-04-49 batch 90 loss: 0.6783597098456489\n",
      "2025-03-13 03-05-06 batch 180 loss: 0.6932537290785048\n",
      "2025-03-13 03-05-23 batch 270 loss: 0.6843944516446855\n",
      "2025-03-13 03-05-23 Finished training in 0:00:50.603717\n",
      "2025-03-13 03-05-35 Loss train 0.6843944516446855 valid 0.7395833309958962; Accuracy val 0.7642463235294118\n",
      "=================================\n",
      "2025-03-13 03-05-35 Epoch 24/50\n",
      "2025-03-13 03-05-51 batch 90 loss: 0.6711487233638763\n",
      "2025-03-13 03-06-08 batch 180 loss: 0.667419637242953\n",
      "2025-03-13 03-06-25 batch 270 loss: 0.6668440245919758\n",
      "2025-03-13 03-06-25 Finished training in 0:00:50.593562\n",
      "2025-03-13 03-06-37 Loss train 0.6668440245919758 valid 0.7174221163286882; Accuracy val 0.7596507352941176\n",
      "2025-03-13 03-06-37 New best validation loss: 0.7174221163286882\n",
      "2025-03-13 03-06-37 Saving results at /home/bchau/Math_156_temp/Final_Project/checkpoints\n",
      "=================================\n",
      "2025-03-13 03-06-37 Epoch 25/50\n",
      "2025-03-13 03-06-53 batch 90 loss: 0.6746586872471704\n",
      "2025-03-13 03-07-10 batch 180 loss: 0.6423891855610742\n",
      "2025-03-13 03-07-27 batch 270 loss: 0.6685730639431212\n",
      "2025-03-13 03-07-27 Finished training in 0:00:50.500819\n",
      "2025-03-13 03-07-39 Loss train 0.6685730639431212 valid 0.6945944305728463; Accuracy val 0.7722886029411765\n",
      "2025-03-13 03-07-39 New best validation loss: 0.6945944305728463\n",
      "2025-03-13 03-07-39 Saving results at /home/bchau/Math_156_temp/Final_Project/checkpoints\n",
      "=================================\n",
      "2025-03-13 03-07-39 Epoch 26/50\n",
      "2025-03-13 03-07-55 batch 90 loss: 0.6505074448055691\n",
      "2025-03-13 03-08-12 batch 180 loss: 0.6311256412002776\n",
      "2025-03-13 03-08-29 batch 270 loss: 0.6466471681992213\n",
      "2025-03-13 03-08-29 Finished training in 0:00:50.576248\n",
      "2025-03-13 03-08-41 Loss train 0.6466471681992213 valid 0.6795774873565225; Accuracy val 0.7745863970588235\n",
      "2025-03-13 03-08-41 New best validation loss: 0.6795774873565225\n",
      "2025-03-13 03-08-41 Saving results at /home/bchau/Math_156_temp/Final_Project/checkpoints\n",
      "=================================\n",
      "2025-03-13 03-08-41 Epoch 27/50\n",
      "2025-03-13 03-08-58 batch 90 loss: 0.6301842934555477\n",
      "2025-03-13 03-09-14 batch 180 loss: 0.6216639277007845\n",
      "2025-03-13 03-09-31 batch 270 loss: 0.6426778230402205\n",
      "2025-03-13 03-09-31 Finished training in 0:00:50.777797\n",
      "2025-03-13 03-09-43 Loss train 0.6426778230402205 valid 0.6887775681474629; Accuracy val 0.7732077205882353\n",
      "=================================\n",
      "2025-03-13 03-09-43 Epoch 28/50\n",
      "2025-03-13 03-10-00 batch 90 loss: 0.6499146004517873\n",
      "2025-03-13 03-10-17 batch 180 loss: 0.6050288746754329\n",
      "2025-03-13 03-10-34 batch 270 loss: 0.6404093093342251\n",
      "2025-03-13 03-10-34 Finished training in 0:00:50.855376\n",
      "2025-03-13 03-10-45 Loss train 0.6404093093342251 valid 0.6992490778074545; Accuracy val 0.7624080882352942\n",
      "=================================\n",
      "2025-03-13 03-10-45 Epoch 29/50\n",
      "2025-03-13 03-11-02 batch 90 loss: 0.6126069880194134\n",
      "2025-03-13 03-11-19 batch 180 loss: 0.5999594420194626\n",
      "2025-03-13 03-11-36 batch 270 loss: 0.6273605128129324\n",
      "2025-03-13 03-11-36 Finished training in 0:00:50.802938\n",
      "2025-03-13 03-11-48 Loss train 0.6273605128129324 valid 0.6582946426728192; Accuracy val 0.7789522058823529\n",
      "2025-03-13 03-11-48 New best validation loss: 0.6582946426728192\n",
      "2025-03-13 03-11-48 Saving results at /home/bchau/Math_156_temp/Final_Project/checkpoints\n",
      "=================================\n",
      "2025-03-13 03-11-48 Epoch 30/50\n",
      "2025-03-13 03-12-04 batch 90 loss: 0.5962958107391994\n",
      "2025-03-13 03-12-21 batch 180 loss: 0.6111680150032044\n",
      "2025-03-13 03-12-38 batch 270 loss: 0.6246522002749972\n",
      "2025-03-13 03-12-38 Finished training in 0:00:50.744412\n",
      "2025-03-13 03-12-50 Loss train 0.6246522002749972 valid 0.6858123922172714; Accuracy val 0.7725183823529411\n",
      "=================================\n",
      "2025-03-13 03-12-50 Epoch 31/50\n",
      "2025-03-13 03-13-07 batch 90 loss: 0.5952998416291343\n",
      "2025-03-13 03-13-24 batch 180 loss: 0.6032940944035848\n",
      "2025-03-13 03-13-41 batch 270 loss: 0.5943586207098431\n",
      "2025-03-13 03-13-41 Finished training in 0:00:50.780765\n",
      "2025-03-13 03-13-52 Loss train 0.5943586207098431 valid 0.6534409032148474; Accuracy val 0.7828584558823529\n",
      "2025-03-13 03-13-52 New best validation loss: 0.6534409032148474\n",
      "2025-03-13 03-13-52 Saving results at /home/bchau/Math_156_temp/Final_Project/checkpoints\n",
      "=================================\n",
      "2025-03-13 03-13-52 Epoch 32/50\n",
      "2025-03-13 03-14-09 batch 90 loss: 0.5947601460748249\n",
      "2025-03-13 03-14-26 batch 180 loss: 0.5938701808452607\n",
      "2025-03-13 03-14-43 batch 270 loss: 0.5881278405586878\n",
      "2025-03-13 03-14-43 Finished training in 0:00:50.696936\n",
      "2025-03-13 03-14-54 Loss train 0.5881278405586878 valid 0.6457009964129504; Accuracy val 0.7881433823529411\n",
      "2025-03-13 03-14-54 New best validation loss: 0.6457009964129504\n",
      "2025-03-13 03-14-54 Saving results at /home/bchau/Math_156_temp/Final_Project/checkpoints\n",
      "=================================\n",
      "2025-03-13 03-14-54 Epoch 33/50\n",
      "2025-03-13 03-15-11 batch 90 loss: 0.5819961839252048\n",
      "2025-03-13 03-15-28 batch 180 loss: 0.5655427008867264\n",
      "2025-03-13 03-15-45 batch 270 loss: 0.5651377459367116\n",
      "2025-03-13 03-15-45 Finished training in 0:00:51.150490\n",
      "2025-03-13 03-15-57 Loss train 0.5651377459367116 valid 0.6389243217075572; Accuracy val 0.7796415441176471\n",
      "2025-03-13 03-15-57 New best validation loss: 0.6389243217075572\n",
      "2025-03-13 03-15-57 Saving results at /home/bchau/Math_156_temp/Final_Project/checkpoints\n",
      "=================================\n",
      "2025-03-13 03-15-57 Epoch 34/50\n",
      "2025-03-13 03-16-14 batch 90 loss: 0.5792141129573186\n",
      "2025-03-13 03-16-31 batch 180 loss: 0.5755594902568393\n",
      "2025-03-13 03-16-47 batch 270 loss: 0.5618761810991499\n",
      "2025-03-13 03-16-47 Finished training in 0:00:50.473088\n",
      "2025-03-13 03-16-59 Loss train 0.5618761810991499 valid 0.6566382203908527; Accuracy val 0.7713694852941176\n",
      "2025-03-13 03-16-59 Saving results at /home/bchau/Math_156_temp/Final_Project/checkpoints\n",
      "=================================\n",
      "2025-03-13 03-16-59 Epoch 35/50\n",
      "2025-03-13 03-17-16 batch 90 loss: 0.5499011394050386\n",
      "2025-03-13 03-17-32 batch 180 loss: 0.5637676636377971\n",
      "2025-03-13 03-17-49 batch 270 loss: 0.5600865284601847\n",
      "2025-03-13 03-17-49 Finished training in 0:00:50.285665\n",
      "2025-03-13 03-18-01 Loss train 0.5600865284601847 valid 0.6359297159840079; Accuracy val 0.7826286764705882\n",
      "2025-03-13 03-18-01 New best validation loss: 0.6359297159840079\n",
      "2025-03-13 03-18-01 Saving results at /home/bchau/Math_156_temp/Final_Project/checkpoints\n",
      "=================================\n",
      "2025-03-13 03-18-01 Epoch 36/50\n",
      "2025-03-13 03-18-17 batch 90 loss: 0.5569942871729533\n",
      "2025-03-13 03-18-34 batch 180 loss: 0.5394848217566808\n",
      "2025-03-13 03-18-51 batch 270 loss: 0.5556704176796807\n",
      "2025-03-13 03-18-51 Finished training in 0:00:50.538802\n",
      "2025-03-13 03-19-02 Loss train 0.5556704176796807 valid 0.6296175792813301; Accuracy val 0.7897518382352942\n",
      "2025-03-13 03-19-02 New best validation loss: 0.6296175792813301\n",
      "2025-03-13 03-19-02 Saving results at /home/bchau/Math_156_temp/Final_Project/checkpoints\n",
      "=================================\n",
      "2025-03-13 03-19-02 Epoch 37/50\n",
      "2025-03-13 03-19-19 batch 90 loss: 0.5365862415896522\n",
      "2025-03-13 03-19-36 batch 180 loss: 0.547980167137252\n",
      "2025-03-13 03-19-52 batch 270 loss: 0.5311881469355689\n",
      "2025-03-13 03-19-52 Finished training in 0:00:50.024706\n",
      "2025-03-13 03-20-04 Loss train 0.5311881469355689 valid 0.6249232125632903; Accuracy val 0.7961856617647058\n",
      "2025-03-13 03-20-04 New best validation loss: 0.6249232125632903\n",
      "2025-03-13 03-20-04 Saving results at /home/bchau/Math_156_temp/Final_Project/checkpoints\n",
      "=================================\n",
      "2025-03-13 03-20-04 Epoch 38/50\n",
      "2025-03-13 03-20-20 batch 90 loss: 0.521700938542684\n",
      "2025-03-13 03-20-37 batch 180 loss: 0.5319368130630917\n",
      "2025-03-13 03-20-54 batch 270 loss: 0.5410504384173287\n",
      "2025-03-13 03-20-54 Finished training in 0:00:50.018045\n",
      "2025-03-13 03-21-05 Loss train 0.5410504384173287 valid 0.622158305171658; Accuracy val 0.7881433823529411\n",
      "2025-03-13 03-21-05 New best validation loss: 0.622158305171658\n",
      "2025-03-13 03-21-05 Saving results at /home/bchau/Math_156_temp/Final_Project/checkpoints\n",
      "=================================\n",
      "2025-03-13 03-21-05 Epoch 39/50\n",
      "2025-03-13 03-21-22 batch 90 loss: 0.5271460019879871\n",
      "2025-03-13 03-21-40 batch 180 loss: 0.5354380812909868\n",
      "2025-03-13 03-21-57 batch 270 loss: 0.5255108843247096\n",
      "2025-03-13 03-21-57 Finished training in 0:00:51.296348\n",
      "2025-03-13 03-22-08 Loss train 0.5255108843247096 valid 0.6093858305145713; Accuracy val 0.7964154411764706\n",
      "2025-03-13 03-22-08 New best validation loss: 0.6093858305145713\n",
      "2025-03-13 03-22-08 Saving results at /home/bchau/Math_156_temp/Final_Project/checkpoints\n",
      "=================================\n",
      "2025-03-13 03-22-08 Epoch 40/50\n",
      "2025-03-13 03-22-25 batch 90 loss: 0.5070137886537446\n",
      "2025-03-13 03-22-42 batch 180 loss: 0.5196461286809709\n",
      "2025-03-13 03-22-59 batch 270 loss: 0.5331778913736344\n",
      "2025-03-13 03-22-59 Finished training in 0:00:51.193206\n",
      "2025-03-13 03-23-11 Loss train 0.5331778913736344 valid 0.6084781302248731; Accuracy val 0.7959558823529411\n",
      "2025-03-13 03-23-11 New best validation loss: 0.6084781302248731\n",
      "2025-03-13 03-23-11 Saving results at /home/bchau/Math_156_temp/Final_Project/checkpoints\n",
      "=================================\n",
      "2025-03-13 03-23-11 Epoch 41/50\n",
      "2025-03-13 03-23-28 batch 90 loss: 0.49151543511284723\n",
      "2025-03-13 03-23-45 batch 180 loss: 0.5124563273456362\n",
      "2025-03-13 03-24-02 batch 270 loss: 0.5175997340016895\n",
      "2025-03-13 03-24-02 Finished training in 0:00:50.787955\n",
      "2025-03-13 03-24-13 Loss train 0.5175997340016895 valid 0.5983034907018437; Accuracy val 0.7994025735294118\n",
      "2025-03-13 03-24-13 New best validation loss: 0.5983034907018437\n",
      "2025-03-13 03-24-13 Saving results at /home/bchau/Math_156_temp/Final_Project/checkpoints\n",
      "=================================\n",
      "2025-03-13 03-24-13 Epoch 42/50\n",
      "2025-03-13 03-24-30 batch 90 loss: 0.5022409190734227\n",
      "2025-03-13 03-24-47 batch 180 loss: 0.5057629575332006\n",
      "2025-03-13 03-25-04 batch 270 loss: 0.5205276091893514\n",
      "2025-03-13 03-25-04 Finished training in 0:00:50.611318\n",
      "2025-03-13 03-25-15 Loss train 0.5205276091893514 valid 0.5856097178424106; Accuracy val 0.8035386029411765\n",
      "2025-03-13 03-25-15 New best validation loss: 0.5856097178424106\n",
      "2025-03-13 03-25-15 Saving results at /home/bchau/Math_156_temp/Final_Project/checkpoints\n",
      "=================================\n",
      "2025-03-13 03-25-15 Epoch 43/50\n",
      "2025-03-13 03-25-32 batch 90 loss: 0.4987320403258006\n",
      "2025-03-13 03-25-49 batch 180 loss: 0.4976903216706382\n",
      "2025-03-13 03-26-06 batch 270 loss: 0.48402967088752324\n",
      "2025-03-13 03-26-06 Finished training in 0:00:50.675504\n",
      "2025-03-13 03-26-17 Loss train 0.48402967088752324 valid 0.6019996746497995; Accuracy val 0.79296875\n",
      "=================================\n",
      "2025-03-13 03-26-17 Epoch 44/50\n",
      "2025-03-13 03-26-35 batch 90 loss: 0.49688433640533025\n",
      "2025-03-13 03-26-52 batch 180 loss: 0.5067572977807787\n",
      "2025-03-13 03-27-09 batch 270 loss: 0.4677664763397641\n",
      "2025-03-13 03-27-09 Finished training in 0:00:51.060855\n",
      "2025-03-13 03-27-20 Loss train 0.4677664763397641 valid 0.5863300846780047; Accuracy val 0.8010110294117647\n",
      "2025-03-13 03-27-20 Saving results at /home/bchau/Math_156_temp/Final_Project/checkpoints\n",
      "=================================\n",
      "2025-03-13 03-27-20 Epoch 45/50\n",
      "2025-03-13 03-27-37 batch 90 loss: 0.4794706381029553\n",
      "2025-03-13 03-27-54 batch 180 loss: 0.4807317111227247\n",
      "2025-03-13 03-28-11 batch 270 loss: 0.47138739244805444\n",
      "2025-03-13 03-28-11 Finished training in 0:00:50.524318\n",
      "2025-03-13 03-28-22 Loss train 0.47138739244805444 valid 0.5770805478096008; Accuracy val 0.8030790441176471\n",
      "2025-03-13 03-28-22 New best validation loss: 0.5770805478096008\n",
      "2025-03-13 03-28-22 Saving results at /home/bchau/Math_156_temp/Final_Project/checkpoints\n",
      "=================================\n",
      "2025-03-13 03-28-22 Epoch 46/50\n",
      "2025-03-13 03-28-39 batch 90 loss: 0.45720631149080065\n",
      "2025-03-13 03-28-56 batch 180 loss: 0.48582647211021845\n",
      "2025-03-13 03-29-13 batch 270 loss: 0.5149106661478678\n",
      "2025-03-13 03-29-13 Finished training in 0:00:50.527827\n",
      "2025-03-13 03-29-24 Loss train 0.5149106661478678 valid 0.5870965543915244; Accuracy val 0.8074448529411765\n",
      "=================================\n",
      "2025-03-13 03-29-24 Epoch 47/50\n",
      "2025-03-13 03-29-41 batch 90 loss: 0.4721247050497267\n",
      "2025-03-13 03-29-58 batch 180 loss: 0.48205946187178295\n",
      "2025-03-13 03-30-14 batch 270 loss: 0.48219144807921516\n",
      "2025-03-13 03-30-14 Finished training in 0:00:50.096365\n",
      "2025-03-13 03-30-26 Loss train 0.48219144807921516 valid 0.6063315517762128; Accuracy val 0.7982536764705882\n",
      "=================================\n",
      "2025-03-13 03-30-26 Epoch 48/50\n",
      "2025-03-13 03-30-42 batch 90 loss: 0.4767968518866433\n",
      "2025-03-13 03-30-59 batch 180 loss: 0.46446043534411324\n",
      "2025-03-13 03-31-16 batch 270 loss: 0.4708064781294929\n",
      "2025-03-13 03-31-16 Finished training in 0:00:50.103120\n",
      "2025-03-13 03-31-27 Loss train 0.4708064781294929 valid 0.5706384716665044; Accuracy val 0.8079044117647058\n",
      "2025-03-13 03-31-27 New best validation loss: 0.5706384716665044\n",
      "2025-03-13 03-31-27 Saving results at /home/bchau/Math_156_temp/Final_Project/checkpoints\n",
      "=================================\n",
      "2025-03-13 03-31-27 Epoch 49/50\n",
      "2025-03-13 03-31-44 batch 90 loss: 0.46058039317528404\n",
      "2025-03-13 03-32-00 batch 180 loss: 0.4662864865528213\n",
      "2025-03-13 03-32-17 batch 270 loss: 0.46244709955321417\n",
      "2025-03-13 03-32-17 Finished training in 0:00:49.745515\n",
      "2025-03-13 03-32-28 Loss train 0.46244709955321417 valid 0.5775584455798654; Accuracy val 0.8019301470588235\n",
      "2025-03-13 03-32-28 Saving results at /home/bchau/Math_156_temp/Final_Project/checkpoints\n",
      "=================================\n",
      "2025-03-13 03-32-28 Saving results at /home/bchau/Math_156_temp/Final_Project/checkpoints\n"
     ]
    }
   ],
   "source": [
    "model = train_model(epochs, optimizer, loss_fn, train_loader, model)"
   ]
  },
  {
   "cell_type": "code",
   "execution_count": null,
   "metadata": {},
   "outputs": [],
   "source": [
    "# TODO: find way to resume model trianing (i.e. run 8)"
   ]
  },
  {
   "cell_type": "markdown",
   "metadata": {},
   "source": [
    "# Evaluating Model on Test Set"
   ]
  },
  {
   "cell_type": "code",
   "execution_count": 165,
   "metadata": {},
   "outputs": [],
   "source": [
    "def test_model(data_loader, model):\n",
    "    all_labels = torch.zeros(len(data_loader.dataset))\n",
    "    all_predictions = torch.zeros(len(data_loader.dataset))\n",
    "    # Disable gradient computation and reduce memory consumption.\n",
    "    with torch.no_grad():\n",
    "        for i, data in enumerate(tqdm(data_loader)):\n",
    "            inputs = data['image'].to(device)\n",
    "            labels = data['land_use'].cpu()\n",
    "            outputs = model(inputs)\n",
    "            predictions = torch.argmax(outputs, dim=1).cpu()\n",
    "            start_idx = i * data_loader.batch_size\n",
    "            if i != len(data_loader) - 1:\n",
    "                end_idx = start_idx + data_loader.batch_size\n",
    "            else:\n",
    "                end_idx = start_idx + len(labels)\n",
    "                assert(end_idx == len(data_loader.dataset))\n",
    "            all_labels[start_idx:end_idx] = labels\n",
    "            all_predictions[start_idx:end_idx] = predictions \n",
    "\n",
    "    metrics = pd.DataFrame(columns=['Precision', 'Recall', 'F1_Score'])\n",
    "    \n",
    "    micro_avg = precision_recall_fscore_support(all_labels, all_predictions, \n",
    "                                                average='micro', zero_division='warn')\n",
    "    macro_avg = precision_recall_fscore_support(all_labels, all_predictions, \n",
    "                                                average='macro', zero_division='warn')\n",
    "    accuracy = torch.sum(all_labels == all_predictions) / len(all_labels)\n",
    "    metrics.loc['Micro Avg'] = micro_avg[:3]\n",
    "    metrics.loc['Macro Avg'] = macro_avg[:3]\n",
    "    metrics.loc['Accuracy'] = [accuracy.item(), None, None]\n",
    "\n",
    "    return metrics"
   ]
  },
  {
   "cell_type": "code",
   "execution_count": 169,
   "metadata": {},
   "outputs": [],
   "source": [
    "latest_model_path = os.path.join(checkpoint_path, 'best_cnn.tar')\n",
    "checkpoint_model = Net()\n",
    "checkpoint_model = load_checkpoint(latest_model_path, checkpoint_model).to(device)"
   ]
  },
  {
   "cell_type": "code",
   "execution_count": 170,
   "metadata": {},
   "outputs": [
    {
     "name": "stderr",
     "output_type": "stream",
     "text": [
      "  0%|          | 0/85 [00:00<?, ?it/s]"
     ]
    },
    {
     "name": "stderr",
     "output_type": "stream",
     "text": [
      "100%|██████████| 85/85 [00:19<00:00,  4.46it/s]\n"
     ]
    }
   ],
   "source": [
    "metrics = test_model(test_loader, checkpoint_model)"
   ]
  },
  {
   "cell_type": "code",
   "execution_count": 171,
   "metadata": {},
   "outputs": [
    {
     "data": {
      "text/html": [
       "<div>\n",
       "<style scoped>\n",
       "    .dataframe tbody tr th:only-of-type {\n",
       "        vertical-align: middle;\n",
       "    }\n",
       "\n",
       "    .dataframe tbody tr th {\n",
       "        vertical-align: top;\n",
       "    }\n",
       "\n",
       "    .dataframe thead th {\n",
       "        text-align: right;\n",
       "    }\n",
       "</style>\n",
       "<table border=\"1\" class=\"dataframe\">\n",
       "  <thead>\n",
       "    <tr style=\"text-align: right;\">\n",
       "      <th></th>\n",
       "      <th>Precision</th>\n",
       "      <th>Recall</th>\n",
       "      <th>F1_Score</th>\n",
       "    </tr>\n",
       "  </thead>\n",
       "  <tbody>\n",
       "    <tr>\n",
       "      <th>Micro Avg</th>\n",
       "      <td>0.813519</td>\n",
       "      <td>0.813519</td>\n",
       "      <td>0.813519</td>\n",
       "    </tr>\n",
       "    <tr>\n",
       "      <th>Macro Avg</th>\n",
       "      <td>0.805664</td>\n",
       "      <td>0.807063</td>\n",
       "      <td>0.805368</td>\n",
       "    </tr>\n",
       "    <tr>\n",
       "      <th>Accuracy</th>\n",
       "      <td>0.813519</td>\n",
       "      <td>NaN</td>\n",
       "      <td>NaN</td>\n",
       "    </tr>\n",
       "  </tbody>\n",
       "</table>\n",
       "</div>"
      ],
      "text/plain": [
       "           Precision    Recall  F1_Score\n",
       "Micro Avg   0.813519  0.813519  0.813519\n",
       "Macro Avg   0.805664  0.807063  0.805368\n",
       "Accuracy    0.813519       NaN       NaN"
      ]
     },
     "execution_count": 171,
     "metadata": {},
     "output_type": "execute_result"
    }
   ],
   "source": [
    "metrics"
   ]
  },
  {
   "cell_type": "code",
   "execution_count": 33,
   "metadata": {},
   "outputs": [],
   "source": [
    "def plot_losses(train_loss, train_loss_idx, val_loss, val_acc, val_loss_idx):\n",
    "    fig, ax = plt.subplots()\n",
    "    ax.plot(train_loss_idx, train_loss, color='blue', label='Training Loss')\n",
    "    ax.plot(np.array(val_loss_idx), val_loss, color='orange', label='Val Loss')\n",
    "    ax.plot(np.array(val_loss_idx), val_acc, color='orange', linestyle='dashed', label='Val Acc')\n",
    "    ax.legend()\n",
    "    return fig"
   ]
  },
  {
   "cell_type": "code",
   "execution_count": 34,
   "metadata": {},
   "outputs": [
    {
     "ename": "AttributeError",
     "evalue": "'float' object has no attribute 'item'",
     "output_type": "error",
     "traceback": [
      "\u001b[0;31m---------------------------------------------------------------------------\u001b[0m",
      "\u001b[0;31mAttributeError\u001b[0m                            Traceback (most recent call last)",
      "Cell \u001b[0;32mIn[34], line 2\u001b[0m\n\u001b[1;32m      1\u001b[0m \u001b[38;5;28;01mfor\u001b[39;00m i, item \u001b[38;5;129;01min\u001b[39;00m \u001b[38;5;28menumerate\u001b[39m(val_acc):\n\u001b[0;32m----> 2\u001b[0m     val_acc[i] \u001b[38;5;241m=\u001b[39m \u001b[43mitem\u001b[49m\u001b[38;5;241;43m.\u001b[39;49m\u001b[43mitem\u001b[49m()\n",
      "\u001b[0;31mAttributeError\u001b[0m: 'float' object has no attribute 'item'"
     ]
    }
   ],
   "source": [
    "for i, item in enumerate(val_acc):\n",
    "    val_acc[i] = item.item()"
   ]
  },
  {
   "cell_type": "code",
   "execution_count": 35,
   "metadata": {},
   "outputs": [
    {
     "data": {
      "image/png": "[encoded data removed]",
      "text/plain": [
       "<Figure size 640x480 with 1 Axes>"
      ]
     },
     "execution_count": 35,
     "metadata": {},
     "output_type": "execute_result"
    },
    {
     "data": {
      "image/png": "[encoded data removed]",
      "text/plain": [
       "<Figure size 640x480 with 1 Axes>"
      ]
     },
     "metadata": {},
     "output_type": "display_data"
    }
   ],
   "source": [
    "plot_losses(train_loss, train_loss_idx, val_loss, val_acc, val_loss_idx)"
   ]
  },
  {
   "cell_type": "code",
   "execution_count": 72,
   "metadata": {},
   "outputs": [
    {
     "data": {
      "text/plain": [
       "[<matplotlib.lines.Line2D at 0x7efb8f42a990>]"
      ]
     },
     "execution_count": 72,
     "metadata": {},
     "output_type": "execute_result"
    },
    {
     "data": {
      "image/png": "[encoded data removed]",
      "text/plain": [
       "<Figure size 640x480 with 1 Axes>"
      ]
     },
     "metadata": {},
     "output_type": "display_data"
    }
   ],
   "source": [
    "fig, ax = plt.subplots()\n",
    "ax.plot(val_loss_idx, val_acc)"
   ]
  },
  {
   "cell_type": "code",
   "execution_count": 73,
   "metadata": {},
   "outputs": [],
   "source": [
    "running_vloss = 0.\n",
    "running_vacc = 0.\n",
    "with torch.no_grad():\n",
    "    for i, vdata in enumerate(val_loader):\n",
    "        vinputs = vdata['image'].to(device)\n",
    "        vlabels = vdata['land_use'].to(device)\n",
    "        voutputs = model(vinputs)\n",
    "        vloss = loss_fn(voutputs, vlabels)\n",
    "        running_vloss += vloss.item()\n",
    "\n",
    "        vpred = torch.argmax(voutputs, dim=1)\n",
    "        vacc = (torch.sum(vlabels == vpred) / len(vlabels)).item()\n",
    "        running_vacc += vacc"
   ]
  },
  {
   "cell_type": "code",
   "execution_count": 74,
   "metadata": {},
   "outputs": [
    {
     "data": {
      "text/plain": [
       "33.95571279525757"
      ]
     },
     "execution_count": 74,
     "metadata": {},
     "output_type": "execute_result"
    }
   ],
   "source": [
    "running_vloss / (i + 1)"
   ]
  },
  {
   "cell_type": "code",
   "execution_count": 75,
   "metadata": {},
   "outputs": [
    {
     "data": {
      "text/plain": [
       "0.0857077205882353"
      ]
     },
     "execution_count": 75,
     "metadata": {},
     "output_type": "execute_result"
    }
   ],
   "source": [
    "running_vacc / len(val_loader)"
   ]
  },
  {
   "cell_type": "code",
   "execution_count": 76,
   "metadata": {},
   "outputs": [
    {
     "data": {
      "text/plain": [
       "0.0625"
      ]
     },
     "execution_count": 76,
     "metadata": {},
     "output_type": "execute_result"
    }
   ],
   "source": [
    "vacc"
   ]
  },
  {
   "cell_type": "code",
   "execution_count": 77,
   "metadata": {},
   "outputs": [],
   "source": [
    "running_tloss = 0.\n",
    "running_tacc = 0.\n",
    "with torch.no_grad():\n",
    "    for i, vdata in enumerate(test_loader):\n",
    "        vinputs = vdata['image'].to(device)\n",
    "        vlabels = vdata['land_use'].to(device)\n",
    "        voutputs = model(vinputs)\n",
    "        vloss = loss_fn(voutputs, vlabels)\n",
    "        running_tloss += vloss.item()\n",
    "\n",
    "        vpred = torch.argmax(voutputs, dim=1)\n",
    "        vacc = (torch.sum(vlabels == vpred) / len(vlabels)).item()\n",
    "        running_tacc += vacc"
   ]
  },
  {
   "cell_type": "code",
   "execution_count": 78,
   "metadata": {},
   "outputs": [
    {
     "data": {
      "text/plain": [
       "33.559736184512865"
      ]
     },
     "execution_count": 78,
     "metadata": {},
     "output_type": "execute_result"
    }
   ],
   "source": [
    "running_tloss / (i + 1)"
   ]
  },
  {
   "cell_type": "code",
   "execution_count": 79,
   "metadata": {},
   "outputs": [
    {
     "data": {
      "text/plain": [
       "0.09044117647058823"
      ]
     },
     "execution_count": 79,
     "metadata": {},
     "output_type": "execute_result"
    }
   ],
   "source": [
    "running_tacc / (i + 1)"
   ]
  },
  {
   "cell_type": "markdown",
   "metadata": {},
   "source": [
    "# Figure out why validation loss is wacky "
   ]
  },
  {
   "cell_type": "code",
   "execution_count": 19,
   "metadata": {},
   "outputs": [
    {
     "data": {
      "text/plain": [
       "['best_cnn_e0',\n",
       " 'best_cnn_e1',\n",
       " 'best_cnn_e1.tar',\n",
       " 'best_cnn_e2.tar',\n",
       " 'best_cnn_e5.tar',\n",
       " 'first_run',\n",
       " 'latest_cnn_e10',\n",
       " 'latest_cnn_e10.tar',\n",
       " 'latest_cnn_e15',\n",
       " 'latest_cnn_e15.tar',\n",
       " 'latest_cnn_e19',\n",
       " 'latest_cnn_e20.tar',\n",
       " 'latest_cnn_e5']"
      ]
     },
     "execution_count": 19,
     "metadata": {},
     "output_type": "execute_result"
    }
   ],
   "source": [
    "sorted(os.listdir(checkpoint_path))"
   ]
  },
  {
   "cell_type": "code",
   "execution_count": 20,
   "metadata": {},
   "outputs": [
    {
     "name": "stdout",
     "output_type": "stream",
     "text": [
      "1\n",
      "Average train loss: 8.448541529973348\n",
      "Average val loss: 8.432934143963982\n"
     ]
    },
    {
     "name": "stderr",
     "output_type": "stream",
     "text": [
      "100%|██████████| 85/85 [00:21<00:00,  4.03it/s]\n",
      "/home/bchau/anaconda3/envs/math_156_project/lib/python3.13/site-packages/sklearn/metrics/_classification.py:1565: UndefinedMetricWarning: Precision is ill-defined and being set to 0.0 in labels with no predicted samples. Use `zero_division` parameter to control this behavior.\n",
      "  _warn_prf(average, modifier, f\"{metric.capitalize()} is\", len(result))\n"
     ]
    },
    {
     "name": "stdout",
     "output_type": "stream",
     "text": [
      "           Precision    Recall  F1_Score\n",
      "Micro Avg   0.090185  0.090185  0.090185\n",
      "Macro Avg   0.009294  0.100000  0.017007\n",
      "Accuracy    0.090185       NaN       NaN\n",
      "----------------------------------------\n",
      "2\n",
      "Average train loss: 5.47714815846196\n",
      "Average val loss: 5.522452494677375\n"
     ]
    },
    {
     "name": "stderr",
     "output_type": "stream",
     "text": [
      "100%|██████████| 85/85 [00:16<00:00,  5.22it/s]\n",
      "/home/bchau/anaconda3/envs/math_156_project/lib/python3.13/site-packages/sklearn/metrics/_classification.py:1565: UndefinedMetricWarning: Precision is ill-defined and being set to 0.0 in labels with no predicted samples. Use `zero_division` parameter to control this behavior.\n",
      "  _warn_prf(average, modifier, f\"{metric.capitalize()} is\", len(result))\n"
     ]
    },
    {
     "name": "stdout",
     "output_type": "stream",
     "text": [
      "           Precision    Recall  F1_Score\n",
      "Micro Avg   0.165370  0.165370  0.165370\n",
      "Macro Avg   0.052485  0.163408  0.074528\n",
      "Accuracy    0.165370       NaN       NaN\n",
      "----------------------------------------\n",
      "5\n",
      "Average train loss: 4.214392038627907\n",
      "Average val loss: 4.325993786839878\n"
     ]
    },
    {
     "name": "stderr",
     "output_type": "stream",
     "text": [
      "100%|██████████| 85/85 [00:15<00:00,  5.52it/s]\n",
      "/home/bchau/anaconda3/envs/math_156_project/lib/python3.13/site-packages/sklearn/metrics/_classification.py:1565: UndefinedMetricWarning: Precision is ill-defined and being set to 0.0 in labels with no predicted samples. Use `zero_division` parameter to control this behavior.\n",
      "  _warn_prf(average, modifier, f\"{metric.capitalize()} is\", len(result))\n"
     ]
    },
    {
     "name": "stdout",
     "output_type": "stream",
     "text": [
      "           Precision    Recall  F1_Score\n",
      "Micro Avg   0.151111  0.151111  0.151111\n",
      "Macro Avg   0.206543  0.142075  0.090493\n",
      "Accuracy    0.151111       NaN       NaN\n",
      "----------------------------------------\n",
      "10\n",
      "Average train loss: 20.80976939731174\n",
      "Average val loss: 20.926064547370462\n"
     ]
    },
    {
     "name": "stderr",
     "output_type": "stream",
     "text": [
      "100%|██████████| 85/85 [00:15<00:00,  5.32it/s]\n",
      "/home/bchau/anaconda3/envs/math_156_project/lib/python3.13/site-packages/sklearn/metrics/_classification.py:1565: UndefinedMetricWarning: Precision is ill-defined and being set to 0.0 in labels with no predicted samples. Use `zero_division` parameter to control this behavior.\n",
      "  _warn_prf(average, modifier, f\"{metric.capitalize()} is\", len(result))\n"
     ]
    },
    {
     "name": "stdout",
     "output_type": "stream",
     "text": [
      "           Precision    Recall  F1_Score\n",
      "Micro Avg   0.095556  0.095556  0.095556\n",
      "Macro Avg   0.009556  0.100000  0.017444\n",
      "Accuracy    0.095556       NaN       NaN\n",
      "----------------------------------------\n",
      "15\n",
      "Average train loss: 16.424772781795927\n",
      "Average val loss: 16.461465372758752\n"
     ]
    },
    {
     "name": "stderr",
     "output_type": "stream",
     "text": [
      "100%|██████████| 85/85 [00:15<00:00,  5.34it/s]\n",
      "/home/bchau/anaconda3/envs/math_156_project/lib/python3.13/site-packages/sklearn/metrics/_classification.py:1565: UndefinedMetricWarning: Precision is ill-defined and being set to 0.0 in labels with no predicted samples. Use `zero_division` parameter to control this behavior.\n",
      "  _warn_prf(average, modifier, f\"{metric.capitalize()} is\", len(result))\n"
     ]
    },
    {
     "name": "stdout",
     "output_type": "stream",
     "text": [
      "           Precision    Recall  F1_Score\n",
      "Micro Avg   0.098519  0.098519  0.098519\n",
      "Macro Avg   0.109588  0.103285  0.023859\n",
      "Accuracy    0.098519       NaN       NaN\n",
      "----------------------------------------\n",
      "20\n",
      "Average train loss: 33.592857671667026\n",
      "Average val loss: 33.969872642965875\n"
     ]
    },
    {
     "name": "stderr",
     "output_type": "stream",
     "text": [
      "100%|██████████| 85/85 [00:16<00:00,  5.28it/s]"
     ]
    },
    {
     "name": "stdout",
     "output_type": "stream",
     "text": [
      "           Precision    Recall  F1_Score\n",
      "Micro Avg   0.090185  0.090185  0.090185\n",
      "Macro Avg   0.009020  0.100000  0.016548\n",
      "Accuracy    0.090185       NaN       NaN\n",
      "----------------------------------------\n"
     ]
    },
    {
     "name": "stderr",
     "output_type": "stream",
     "text": [
      "\n",
      "/home/bchau/anaconda3/envs/math_156_project/lib/python3.13/site-packages/sklearn/metrics/_classification.py:1565: UndefinedMetricWarning: Precision is ill-defined and being set to 0.0 in labels with no predicted samples. Use `zero_division` parameter to control this behavior.\n",
      "  _warn_prf(average, modifier, f\"{metric.capitalize()} is\", len(result))\n"
     ]
    }
   ],
   "source": [
    "for model_name in sorted(os.listdir(checkpoint_path)):\n",
    "    if '.tar' not in model_name:\n",
    "        continue\n",
    "    model_path = os.path.join(checkpoint_path, model_name)\n",
    "    checkpoint_model = Net()\n",
    "    checkpoint_optim = torch.optim.SGD(checkpoint_model.parameters())\n",
    "    (model_epoch, checkpoint_optim, _, checkpoint_model, \n",
    "     train_loss, train_loss_idx, val_loss, val_acc, val_loss_idx) = load_checkpoint(model_path, checkpoint_model, checkpoint_optim)\n",
    "    checkpoint_model = checkpoint_model.to(device)\n",
    "\n",
    "    checkpoint_model.eval()\n",
    "\n",
    "    print(model_epoch)\n",
    "\n",
    "    running_tloss = 0.\n",
    "    with torch.no_grad():\n",
    "        for i, tdata in enumerate(train_loader):\n",
    "            tinputs = tdata['image'].to(device)\n",
    "            tlabels = tdata['land_use'].to(device)\n",
    "            toutputs = checkpoint_model(tinputs)\n",
    "            tloss = loss_fn(toutputs, tlabels)\n",
    "            running_tloss += tloss.item()\n",
    "    print(f\"Average train loss: {running_tloss / (i + 1)}\")\n",
    "\n",
    "    running_vloss = 0.\n",
    "    with torch.no_grad():\n",
    "        for i, vdata in enumerate(val_loader):\n",
    "            vinputs = vdata['image'].to(device)\n",
    "            vlabels = vdata['land_use'].to(device)\n",
    "            voutputs = checkpoint_model(vinputs)\n",
    "            vloss = loss_fn(voutputs, vlabels)\n",
    "            running_vloss += vloss.item()\n",
    "    print(f\"Average val loss: {running_vloss / (i + 1)}\")\n",
    "    \n",
    "    metrics = test_model(test_loader, checkpoint_model)\n",
    "    print(metrics)\n",
    "\n",
    "    print('----------------------------------------')\n",
    "\n",
    "    # TODO: maybe try testing each of the models at different epochs and recalculate their accuracy and val loss?\n",
    "    "
   ]
  },
  {
   "cell_type": "code",
   "execution_count": null,
   "metadata": {},
   "outputs": [],
   "source": [
    "model_path = os.path.join(checkpoint_path, 'latest_cnn_e20.tar')\n",
    "checkpoint_model = Net()\n",
    "checkpoint_optim = torch.optim.SGD(checkpoint_model.parameters())\n",
    "(model_epoch, checkpoint_optim, _, checkpoint_model, \n",
    "    train_loss, train_loss_idx, val_loss, val_acc, val_loss_idx) = load_checkpoint(model_path, checkpoint_model, checkpoint_optim)\n",
    "checkpoint_model = checkpoint_model.to(device)"
   ]
  },
  {
   "cell_type": "code",
   "execution_count": 26,
   "metadata": {},
   "outputs": [
    {
     "name": "stderr",
     "output_type": "stream",
     "text": [
      "100%|██████████| 85/85 [00:17<00:00,  4.97it/s]\n"
     ]
    },
    {
     "data": {
      "text/html": [
       "<div>\n",
       "<style scoped>\n",
       "    .dataframe tbody tr th:only-of-type {\n",
       "        vertical-align: middle;\n",
       "    }\n",
       "\n",
       "    .dataframe tbody tr th {\n",
       "        vertical-align: top;\n",
       "    }\n",
       "\n",
       "    .dataframe thead th {\n",
       "        text-align: right;\n",
       "    }\n",
       "</style>\n",
       "<table border=\"1\" class=\"dataframe\">\n",
       "  <thead>\n",
       "    <tr style=\"text-align: right;\">\n",
       "      <th></th>\n",
       "      <th>Precision</th>\n",
       "      <th>Recall</th>\n",
       "      <th>F1_Score</th>\n",
       "    </tr>\n",
       "  </thead>\n",
       "  <tbody>\n",
       "    <tr>\n",
       "      <th>Micro Avg</th>\n",
       "      <td>0.768333</td>\n",
       "      <td>0.768333</td>\n",
       "      <td>0.768333</td>\n",
       "    </tr>\n",
       "    <tr>\n",
       "      <th>Macro Avg</th>\n",
       "      <td>0.755775</td>\n",
       "      <td>0.760756</td>\n",
       "      <td>0.756312</td>\n",
       "    </tr>\n",
       "    <tr>\n",
       "      <th>Accuracy</th>\n",
       "      <td>0.768333</td>\n",
       "      <td>NaN</td>\n",
       "      <td>NaN</td>\n",
       "    </tr>\n",
       "  </tbody>\n",
       "</table>\n",
       "</div>"
      ],
      "text/plain": [
       "           Precision    Recall  F1_Score\n",
       "Micro Avg   0.768333  0.768333  0.768333\n",
       "Macro Avg   0.755775  0.760756  0.756312\n",
       "Accuracy    0.768333       NaN       NaN"
      ]
     },
     "execution_count": 26,
     "metadata": {},
     "output_type": "execute_result"
    }
   ],
   "source": [
    "checkpoint_model = load_checkpoint(model_path, checkpoint_model)\n",
    "metrics = test_model(test_loader, checkpoint_model)\n",
    "metrics"
   ]
  },
  {
   "cell_type": "code",
   "execution_count": 27,
   "metadata": {},
   "outputs": [
    {
     "name": "stderr",
     "output_type": "stream",
     "text": [
      "100%|██████████| 85/85 [00:16<00:00,  5.04it/s]\n",
      "/home/bchau/anaconda3/envs/math_156_project/lib/python3.13/site-packages/sklearn/metrics/_classification.py:1565: UndefinedMetricWarning: Precision is ill-defined and being set to 0.0 in labels with no predicted samples. Use `zero_division` parameter to control this behavior.\n",
      "  _warn_prf(average, modifier, f\"{metric.capitalize()} is\", len(result))\n"
     ]
    },
    {
     "data": {
      "text/html": [
       "<div>\n",
       "<style scoped>\n",
       "    .dataframe tbody tr th:only-of-type {\n",
       "        vertical-align: middle;\n",
       "    }\n",
       "\n",
       "    .dataframe tbody tr th {\n",
       "        vertical-align: top;\n",
       "    }\n",
       "\n",
       "    .dataframe thead th {\n",
       "        text-align: right;\n",
       "    }\n",
       "</style>\n",
       "<table border=\"1\" class=\"dataframe\">\n",
       "  <thead>\n",
       "    <tr style=\"text-align: right;\">\n",
       "      <th></th>\n",
       "      <th>Precision</th>\n",
       "      <th>Recall</th>\n",
       "      <th>F1_Score</th>\n",
       "    </tr>\n",
       "  </thead>\n",
       "  <tbody>\n",
       "    <tr>\n",
       "      <th>Micro Avg</th>\n",
       "      <td>0.090185</td>\n",
       "      <td>0.090185</td>\n",
       "      <td>0.090185</td>\n",
       "    </tr>\n",
       "    <tr>\n",
       "      <th>Macro Avg</th>\n",
       "      <td>0.009020</td>\n",
       "      <td>0.100000</td>\n",
       "      <td>0.016548</td>\n",
       "    </tr>\n",
       "    <tr>\n",
       "      <th>Accuracy</th>\n",
       "      <td>0.090185</td>\n",
       "      <td>NaN</td>\n",
       "      <td>NaN</td>\n",
       "    </tr>\n",
       "  </tbody>\n",
       "</table>\n",
       "</div>"
      ],
      "text/plain": [
       "           Precision    Recall  F1_Score\n",
       "Micro Avg   0.090185  0.090185  0.090185\n",
       "Macro Avg   0.009020  0.100000  0.016548\n",
       "Accuracy    0.090185       NaN       NaN"
      ]
     },
     "execution_count": 27,
     "metadata": {},
     "output_type": "execute_result"
    }
   ],
   "source": [
    "checkpoint_model = load_checkpoint(model_path, checkpoint_model)\n",
    "checkpoint_model.eval()\n",
    "metrics = test_model(test_loader, checkpoint_model)\n",
    "metrics"
   ]
  },
  {
   "cell_type": "code",
   "execution_count": null,
   "metadata": {},
   "outputs": [],
   "source": [
    "# TODO: grid search specific to CNN, googlenet, mobilenet"
   ]
  }
 ],
 "metadata": {
  "kernelspec": {
   "display_name": "math_156_project",
   "language": "python",
   "name": "python3"
  },
  "language_info": {
   "codemirror_mode": {
    "name": "ipython",
    "version": 3
   },
   "file_extension": ".py",
   "mimetype": "text/x-python",
   "name": "python",
   "nbconvert_exporter": "python",
   "pygments_lexer": "ipython3",
   "version": "3.13.2"
  }
 },
 "nbformat": 4,
 "nbformat_minor": 2
}
